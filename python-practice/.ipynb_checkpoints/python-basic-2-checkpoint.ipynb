{
 "cells": [
  {
   "cell_type": "markdown",
   "metadata": {},
   "source": [
    "### 函数的嵌套"
   ]
  },
  {
   "cell_type": "code",
   "execution_count": 3,
   "metadata": {
    "collapsed": true
   },
   "outputs": [],
   "source": [
    "def fun():\n",
    "    n = 1\n",
    "    def disp():\n",
    "        print n\n",
    "    for i in range(10):\n",
    "        disp()\n",
    "        n += 1"
   ]
  },
  {
   "cell_type": "code",
   "execution_count": 4,
   "metadata": {
    "scrolled": true
   },
   "outputs": [
    {
     "name": "stdout",
     "output_type": "stream",
     "text": [
      "1\n",
      "2\n",
      "3\n",
      "4\n",
      "5\n",
      "6\n",
      "7\n",
      "8\n",
      "9\n",
      "10\n"
     ]
    }
   ],
   "source": [
    "fun()"
   ]
  },
  {
   "cell_type": "markdown",
   "metadata": {},
   "source": [
    "### 魔法参数"
   ]
  },
  {
   "cell_type": "code",
   "execution_count": 13,
   "metadata": {
    "collapsed": true
   },
   "outputs": [],
   "source": [
    "def fun3(x, y=200, z=300):\n",
    "    print ('x=%s,y=%s,z=%s')%(x, y, z)"
   ]
  },
  {
   "cell_type": "code",
   "execution_count": 16,
   "metadata": {},
   "outputs": [
    {
     "name": "stdout",
     "output_type": "stream",
     "text": [
      "x=1,y=200,z=300\n"
     ]
    }
   ],
   "source": [
    "fun3(1)"
   ]
  },
  {
   "cell_type": "code",
   "execution_count": 17,
   "metadata": {
    "collapsed": true
   },
   "outputs": [],
   "source": [
    "def fun2(*args,**kwargs):\n",
    "    print ('args=%s,kwargs=%s')%(args, kwargs)"
   ]
  },
  {
   "cell_type": "code",
   "execution_count": 18,
   "metadata": {},
   "outputs": [
    {
     "name": "stdout",
     "output_type": "stream",
     "text": [
      "args=(1, 2, 3),kwargs={'y': 20, 'x': 10, 'z': 30}\n"
     ]
    }
   ],
   "source": [
    "fun2(1,2,3,x=10,y=20,z=30)"
   ]
  },
  {
   "cell_type": "code",
   "execution_count": 19,
   "metadata": {
    "collapsed": true
   },
   "outputs": [],
   "source": [
    "def fun_magic(a,*args,**kwargs):  # 传元组， 字典\n",
    "    print ('args=%s,kwargs=%s')%(args, kwargs)"
   ]
  },
  {
   "cell_type": "code",
   "execution_count": 20,
   "metadata": {},
   "outputs": [
    {
     "name": "stdout",
     "output_type": "stream",
     "text": [
      "args=(2, 3),kwargs={'y': 20, 'x': 10, 'z': 30}\n"
     ]
    }
   ],
   "source": [
    "fun_magic(1,2,3,x=10,y=20,z=30)"
   ]
  },
  {
   "cell_type": "code",
   "execution_count": 28,
   "metadata": {
    "collapsed": true
   },
   "outputs": [],
   "source": [
    "def fun_magic_pro(*args,**kwargs):\n",
    "    print ('fun_magic_pro：args=%s,kwargs=%s')%(args, kwargs)\n",
    "    fun_magic_pro_2(args,kwargs)\n",
    "    fun_magic_pro_2(*args,**kwargs)\n",
    "def fun_magic_pro_2(*args,**kwargs):\n",
    "    print ('fun_magic_pro_2：args=%s,kwargs=%s')%(args, kwargs)"
   ]
  },
  {
   "cell_type": "code",
   "execution_count": 29,
   "metadata": {},
   "outputs": [
    {
     "name": "stdout",
     "output_type": "stream",
     "text": [
      "fun_magic_pro：args=(1, 2, 3),kwargs={'a': 1, 'c': 3, 'b': 2}\n",
      "fun_magic_pro_2：args=((1, 2, 3), {'a': 1, 'c': 3, 'b': 2}),kwargs={}\n",
      "fun_magic_pro_2：args=(1, 2, 3),kwargs={'a': 1, 'c': 3, 'b': 2}\n"
     ]
    }
   ],
   "source": [
    "fun_magic_pro(1,2,3,a=1,b=2,c=3)"
   ]
  },
  {
   "cell_type": "markdown",
   "metadata": {},
   "source": [
    "### 生成器yield"
   ]
  },
  {
   "cell_type": "code",
   "execution_count": null,
   "metadata": {
    "collapsed": true
   },
   "outputs": [],
   "source": [
    "a = range(10000000000000) # python2 error : too many items"
   ]
  },
  {
   "cell_type": "code",
   "execution_count": 2,
   "metadata": {
    "collapsed": true
   },
   "outputs": [],
   "source": [
    "def fbnq():\n",
    "    a = 0\n",
    "    b = 1\n",
    "    while True:\n",
    "        yield b  # return b 然后程序停下来 等着next指令\n",
    "        a, b = b, a + b"
   ]
  },
  {
   "cell_type": "code",
   "execution_count": 8,
   "metadata": {},
   "outputs": [
    {
     "name": "stdout",
     "output_type": "stream",
     "text": [
      "1 1 2 3 5\n"
     ]
    }
   ],
   "source": [
    "f=fbnq()\n",
    "print next(f),next(f),next(f),next(f),next(f)"
   ]
  },
  {
   "cell_type": "markdown",
   "metadata": {},
   "source": [
    "### global 和 local"
   ]
  },
  {
   "cell_type": "code",
   "execution_count": null,
   "metadata": {
    "collapsed": true
   },
   "outputs": [],
   "source": [
    "print globals() # 字典"
   ]
  },
  {
   "cell_type": "code",
   "execution_count": 3,
   "metadata": {
    "collapsed": true
   },
   "outputs": [],
   "source": [
    "x = 100\n",
    "def fun_1():\n",
    "    global x\n",
    "    x += 1\n",
    "    print x"
   ]
  },
  {
   "cell_type": "code",
   "execution_count": 4,
   "metadata": {},
   "outputs": [
    {
     "name": "stdout",
     "output_type": "stream",
     "text": [
      "101\n"
     ]
    }
   ],
   "source": [
    "fun_1()"
   ]
  },
  {
   "cell_type": "markdown",
   "metadata": {},
   "source": [
    "### 继承"
   ]
  },
  {
   "cell_type": "code",
   "execution_count": 5,
   "metadata": {
    "collapsed": true
   },
   "outputs": [],
   "source": [
    "class C1():\n",
    "    def __init__(self):\n",
    "        c1_x = 10\n",
    "    def c1_fun(self):\n",
    "        print 'c1_fun'\n",
    "class C2():\n",
    "    def __init__(self):\n",
    "        c2_x = 20\n",
    "    def c2_fun(self):\n",
    "        print 'c2_fun'\n",
    "class C(C1,C2): # 继承C1,C2\n",
    "    def __init__(self):\n",
    "        # super ???\n",
    "        c_x = 30\n",
    "    def c1_fun(self):\n",
    "        print 'c_fun'"
   ]
  },
  {
   "cell_type": "markdown",
   "metadata": {},
   "source": [
    "### 一般文件操作"
   ]
  },
  {
   "cell_type": "markdown",
   "metadata": {},
   "source": [
    "> Parameters:\t\n",
    "path : str\n",
    "Local file path or URL to open.\n",
    "mode : {‘r’, ‘w’, ‘a’}, optional\n",
    "Mode to open path. Mode ‘r’ for reading, ‘w’ for writing, ‘a’ to append. Available modes depend on the type of object specified by path. Default is ‘r’.\n",
    "encoding : {None, str}, optional\n",
    "Open text file with given encoding. The default encoding will be what io.open uses.\n",
    "newline : {None, str}, optional\n",
    "Newline to use when reading text file.\n",
    "Returns:\t\n",
    "out : file object\n",
    "File object."
   ]
  },
  {
   "cell_type": "code",
   "execution_count": 15,
   "metadata": {
    "collapsed": true
   },
   "outputs": [],
   "source": [
    "f = open('/Users/zhaoxuyan/Desktop/tst.txt','w')\n",
    "f.write('123')\n",
    "f.close()"
   ]
  },
  {
   "cell_type": "markdown",
   "metadata": {},
   "source": [
    "### 安全做法"
   ]
  },
  {
   "cell_type": "code",
   "execution_count": 18,
   "metadata": {},
   "outputs": [
    {
     "name": "stdout",
     "output_type": "stream",
     "text": [
      "123\n"
     ]
    }
   ],
   "source": [
    "with open('/Users/zhaoxuyan/Desktop/tst.txt','r') as f:\n",
    "    data = f.read()\n",
    "print data"
   ]
  },
  {
   "cell_type": "code",
   "execution_count": 21,
   "metadata": {},
   "outputs": [
    {
     "name": "stdout",
     "output_type": "stream",
     "text": [
      "123\n"
     ]
    }
   ],
   "source": [
    "f = open('/Users/zhaoxuyan/Desktop/tst.txt')\n",
    "try:\n",
    "    data = f.read()\n",
    "finally:\n",
    "    f.close()\n",
    "print data"
   ]
  },
  {
   "cell_type": "markdown",
   "metadata": {},
   "source": [
    "### INI (conf)操作"
   ]
  },
  {
   "cell_type": "markdown",
   "metadata": {
    "collapsed": true
   },
   "source": [
    "> 略"
   ]
  },
  {
   "cell_type": "code",
   "execution_count": null,
   "metadata": {
    "collapsed": true
   },
   "outputs": [],
   "source": []
  }
 ],
 "metadata": {
  "kernelspec": {
   "display_name": "Python 2",
   "language": "python",
   "name": "python2"
  },
  "language_info": {
   "codemirror_mode": {
    "name": "ipython",
    "version": 2
   },
   "file_extension": ".py",
   "mimetype": "text/x-python",
   "name": "python",
   "nbconvert_exporter": "python",
   "pygments_lexer": "ipython2",
   "version": "2.7.11"
  }
 },
 "nbformat": 4,
 "nbformat_minor": 2
}
