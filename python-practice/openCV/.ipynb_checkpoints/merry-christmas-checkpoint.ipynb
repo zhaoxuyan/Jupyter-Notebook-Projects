{
 "cells": [
  {
   "cell_type": "code",
   "execution_count": null,
   "metadata": {},
   "outputs": [],
   "source": [
    "#coding=utf-8\n",
    "import cv2\n",
    "\n",
    "# OpenCV人脸识别分类器\n",
    "classifier = cv2.CascadeClassifier(\n",
    "    \"/Users/zhaoxuyan/anaconda/pkgs/opencv-3.1.0-np112py27_1/share/OpenCV/haarcascades/haarcascade_frontalface_default.xml\"\n",
    ")\n",
    "\n",
    "img = cv2.imread(\"/Users/zhaoxuyan/Desktop/13周/me.png\")  # 读取图片\n",
    "imgCompose = cv2.imread(\"/Users/zhaoxuyan/Desktop/13周/hat1.png\")\n",
    "\n",
    "gray = cv2.cvtColor(img, cv2.COLOR_BGR2GRAY)  # 转换灰色\n",
    "color = (0, 255, 0)  # 定义绘制颜色\n",
    "# 调用识别人脸\n",
    "faceRects = classifier.detectMultiScale(\n",
    "    gray, scaleFactor=1.2, minNeighbors=3, minSize=(32, 32))\n",
    "if len(faceRects):  # 大于0则检测到人脸\n",
    "    for faceRect in faceRects:  \n",
    "        x, y, w, h = faceRect\n",
    "        sp = imgCompose.shape\n",
    "        imgComposeSizeH = int(sp[0]/sp[1]*w)\n",
    "        if imgComposeSizeH>(y-20):\n",
    "            imgComposeSizeH=(y-20)\n",
    "        imgComposeSize = cv2.resize(imgCompose,(w, imgComposeSizeH), interpolation=cv2.INTER_NEAREST)\n",
    "        top = (y-imgComposeSizeH-20)\n",
    "        if top<=0:\n",
    "            top=0\n",
    "        rows, cols, channels = imgComposeSize.shape\n",
    "        roi = img[top:top+rows,x:x+cols]\n",
    "\n",
    "        # Now create a mask of logo and create its inverse mask also\n",
    "        img2gray = cv2.cvtColor(imgComposeSize, cv2.COLOR_RGB2GRAY)\n",
    "        ret, mask = cv2.threshold(img2gray, 10, 255, cv2.THRESH_BINARY) \n",
    "        mask_inv = cv2.bitwise_not(mask)\n",
    "\n",
    "        # Now black-out the area of logo in ROI\n",
    "        img1_bg = cv2.bitwise_and(roi, roi, mask=mask_inv)\n",
    "\n",
    "        # Take only region of logo from logo image.\n",
    "        img2_fg = cv2.bitwise_and(imgComposeSize, imgComposeSize, mask=mask)\n",
    "\n",
    "        # Put logo in ROI and modify the main image\n",
    "        dst = cv2.add(img1_bg, img2_fg)\n",
    "        img[top:top+rows, x:x+cols] = dst\n",
    "\n",
    "# cv2.imshow(\"image\", img) \n",
    "cv2.imwrite(\"merry-christmas.png\", img)\n",
    "cv2.waitKey(0)\n",
    "cv2.destroyAllWindows()"
   ]
  },
  {
   "cell_type": "code",
   "execution_count": null,
   "metadata": {
    "collapsed": true
   },
   "outputs": [],
   "source": []
  }
 ],
 "metadata": {
  "kernelspec": {
   "display_name": "Python 3 bunnies",
   "language": "python",
   "name": "python3"
  },
  "language_info": {
   "codemirror_mode": {
    "name": "ipython",
    "version": 3
   },
   "file_extension": ".py",
   "mimetype": "text/x-python",
   "name": "python",
   "nbconvert_exporter": "python",
   "pygments_lexer": "ipython3",
   "version": "3.6.5"
  }
 },
 "nbformat": 4,
 "nbformat_minor": 2
}
