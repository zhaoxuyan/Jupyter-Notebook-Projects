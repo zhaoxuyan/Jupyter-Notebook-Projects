{
 "cells": [
  {
   "cell_type": "markdown",
   "metadata": {},
   "source": [
    "# Boston House Price"
   ]
  },
  {
   "cell_type": "markdown",
   "metadata": {},
   "source": [
    "1. 利用python的sklearn库（线性回归，lasso回归，岭回归，弹性网络算法）对给定数据集进行预测分析。\n",
    "2. 分析线性回归算法的实现流程\n",
    "3. 分析代价函数的构造、梯度下降的实现、回归算法的构建过程；\n",
    "4. 根据算法描述编程实现算法，调试运行；\n",
    "5. 对所给数据集进行验算，得到分析结果。"
   ]
  },
  {
   "cell_type": "markdown",
   "metadata": {},
   "source": [
    "## 导入Jupyterthemes(画图)"
   ]
  },
  {
   "cell_type": "code",
   "execution_count": 1,
   "metadata": {
    "collapsed": true
   },
   "outputs": [],
   "source": [
    "# import jtplot submodule from jupyterthemes\n",
    "from jupyterthemes import jtplot\n",
    "\n",
    "# currently installed theme will be used to\n",
    "# set plot style if no arguments provided\n",
    "jtplot.style()"
   ]
  },
  {
   "cell_type": "markdown",
   "metadata": {},
   "source": [
    "## 导入Python模块"
   ]
  },
  {
   "cell_type": "code",
   "execution_count": 2,
   "metadata": {
    "collapsed": true
   },
   "outputs": [],
   "source": [
    "import numpy as np\n",
    "import pandas as pd\n",
    "from pandas import Series,DataFrame\n",
    "\n",
    "import matplotlib.pyplot as plt\n",
    "%matplotlib inline\n",
    "\n",
    "import sklearn.datasets as datasets\n",
    "\n",
    "#机器分类算法模型\n",
    "from sklearn.linear_model import LinearRegression\n",
    "from sklearn.linear_model import Ridge\n",
    "from sklearn.linear_model import Lasso\n",
    "from sklearn.linear_model import ElasticNet\n",
    "from sklearn.tree import DecisionTreeRegressor\n",
    "\n",
    "#切割训练数据和样本数据\n",
    "from sklearn.model_selection import train_test_split\n",
    "\n",
    "#用于模型评分\n",
    "from sklearn.metrics import r2_score"
   ]
  },
  {
   "cell_type": "markdown",
   "metadata": {},
   "source": [
    "## 加载波士顿房价数据"
   ]
  },
  {
   "cell_type": "code",
   "execution_count": 3,
   "metadata": {
    "collapsed": true
   },
   "outputs": [],
   "source": [
    "boston = datasets.load_boston()\n",
    "train = boston.data\n",
    "target = boston.target\n",
    "boston_pd = pd.DataFrame(train, columns=boston.feature_names)\n",
    "boston_pd['PRICE'] = target # 增加target这一列，作为Price"
   ]
  },
  {
   "cell_type": "markdown",
   "metadata": {},
   "source": [
    "## 分析数据"
   ]
  },
  {
   "cell_type": "code",
   "execution_count": 4,
   "metadata": {},
   "outputs": [
    {
     "data": {
      "text/html": [
       "<div>\n",
       "<style>\n",
       "    .dataframe thead tr:only-child th {\n",
       "        text-align: right;\n",
       "    }\n",
       "\n",
       "    .dataframe thead th {\n",
       "        text-align: left;\n",
       "    }\n",
       "\n",
       "    .dataframe tbody tr th {\n",
       "        vertical-align: top;\n",
       "    }\n",
       "</style>\n",
       "<table border=\"1\" class=\"dataframe\">\n",
       "  <thead>\n",
       "    <tr style=\"text-align: right;\">\n",
       "      <th></th>\n",
       "      <th>CRIM</th>\n",
       "      <th>ZN</th>\n",
       "      <th>INDUS</th>\n",
       "      <th>CHAS</th>\n",
       "      <th>NOX</th>\n",
       "      <th>RM</th>\n",
       "      <th>AGE</th>\n",
       "      <th>DIS</th>\n",
       "      <th>RAD</th>\n",
       "      <th>TAX</th>\n",
       "      <th>PTRATIO</th>\n",
       "      <th>B</th>\n",
       "      <th>LSTAT</th>\n",
       "      <th>PRICE</th>\n",
       "    </tr>\n",
       "  </thead>\n",
       "  <tbody>\n",
       "    <tr>\n",
       "      <th>0</th>\n",
       "      <td>0.00632</td>\n",
       "      <td>18.0</td>\n",
       "      <td>2.31</td>\n",
       "      <td>0.0</td>\n",
       "      <td>0.538</td>\n",
       "      <td>6.575</td>\n",
       "      <td>65.2</td>\n",
       "      <td>4.0900</td>\n",
       "      <td>1.0</td>\n",
       "      <td>296.0</td>\n",
       "      <td>15.3</td>\n",
       "      <td>396.90</td>\n",
       "      <td>4.98</td>\n",
       "      <td>24.0</td>\n",
       "    </tr>\n",
       "    <tr>\n",
       "      <th>1</th>\n",
       "      <td>0.02731</td>\n",
       "      <td>0.0</td>\n",
       "      <td>7.07</td>\n",
       "      <td>0.0</td>\n",
       "      <td>0.469</td>\n",
       "      <td>6.421</td>\n",
       "      <td>78.9</td>\n",
       "      <td>4.9671</td>\n",
       "      <td>2.0</td>\n",
       "      <td>242.0</td>\n",
       "      <td>17.8</td>\n",
       "      <td>396.90</td>\n",
       "      <td>9.14</td>\n",
       "      <td>21.6</td>\n",
       "    </tr>\n",
       "    <tr>\n",
       "      <th>2</th>\n",
       "      <td>0.02729</td>\n",
       "      <td>0.0</td>\n",
       "      <td>7.07</td>\n",
       "      <td>0.0</td>\n",
       "      <td>0.469</td>\n",
       "      <td>7.185</td>\n",
       "      <td>61.1</td>\n",
       "      <td>4.9671</td>\n",
       "      <td>2.0</td>\n",
       "      <td>242.0</td>\n",
       "      <td>17.8</td>\n",
       "      <td>392.83</td>\n",
       "      <td>4.03</td>\n",
       "      <td>34.7</td>\n",
       "    </tr>\n",
       "    <tr>\n",
       "      <th>3</th>\n",
       "      <td>0.03237</td>\n",
       "      <td>0.0</td>\n",
       "      <td>2.18</td>\n",
       "      <td>0.0</td>\n",
       "      <td>0.458</td>\n",
       "      <td>6.998</td>\n",
       "      <td>45.8</td>\n",
       "      <td>6.0622</td>\n",
       "      <td>3.0</td>\n",
       "      <td>222.0</td>\n",
       "      <td>18.7</td>\n",
       "      <td>394.63</td>\n",
       "      <td>2.94</td>\n",
       "      <td>33.4</td>\n",
       "    </tr>\n",
       "    <tr>\n",
       "      <th>4</th>\n",
       "      <td>0.06905</td>\n",
       "      <td>0.0</td>\n",
       "      <td>2.18</td>\n",
       "      <td>0.0</td>\n",
       "      <td>0.458</td>\n",
       "      <td>7.147</td>\n",
       "      <td>54.2</td>\n",
       "      <td>6.0622</td>\n",
       "      <td>3.0</td>\n",
       "      <td>222.0</td>\n",
       "      <td>18.7</td>\n",
       "      <td>396.90</td>\n",
       "      <td>5.33</td>\n",
       "      <td>36.2</td>\n",
       "    </tr>\n",
       "  </tbody>\n",
       "</table>\n",
       "</div>"
      ],
      "text/plain": [
       "      CRIM    ZN  INDUS  CHAS    NOX     RM   AGE     DIS  RAD    TAX  \\\n",
       "0  0.00632  18.0   2.31   0.0  0.538  6.575  65.2  4.0900  1.0  296.0   \n",
       "1  0.02731   0.0   7.07   0.0  0.469  6.421  78.9  4.9671  2.0  242.0   \n",
       "2  0.02729   0.0   7.07   0.0  0.469  7.185  61.1  4.9671  2.0  242.0   \n",
       "3  0.03237   0.0   2.18   0.0  0.458  6.998  45.8  6.0622  3.0  222.0   \n",
       "4  0.06905   0.0   2.18   0.0  0.458  7.147  54.2  6.0622  3.0  222.0   \n",
       "\n",
       "   PTRATIO       B  LSTAT  PRICE  \n",
       "0     15.3  396.90   4.98   24.0  \n",
       "1     17.8  396.90   9.14   21.6  \n",
       "2     17.8  392.83   4.03   34.7  \n",
       "3     18.7  394.63   2.94   33.4  \n",
       "4     18.7  396.90   5.33   36.2  "
      ]
     },
     "execution_count": 4,
     "metadata": {},
     "output_type": "execute_result"
    }
   ],
   "source": [
    "boston_pd.head()\n",
    "# CRIM    城镇人均犯罪率\n",
    "# ZN    住宅用地所占面积\n",
    "# INDUS    城镇中非商业用地所占面积\n",
    "# CHAS    是否毗邻查尔斯河\n",
    "# NOX    环保指标\n",
    "# RM    每栋住宅的房间数\n",
    "# AGE    1940年建成的自助单位的比例\n",
    "# DIS    距离波士顿就业中心的距离\n",
    "# RAD    距离高速公路的便利指数\n",
    "# TAX    每一万美元的不动产率\n",
    "# PTRATIO    城镇中教师学生比例\n",
    "# B    黑人的比例\n",
    "# LSTAT    地区中有多少百分比的房东属于低收入阶层\n",
    "# MEDV 自助房屋房价中位数"
   ]
  },
  {
   "cell_type": "code",
   "execution_count": 5,
   "metadata": {},
   "outputs": [
    {
     "name": "stdout",
     "output_type": "stream",
     "text": [
      "Boston housing dataset has 506 data points with 14 variables each.\n"
     ]
    }
   ],
   "source": [
    "print \"Boston housing dataset has {} data points with {} variables each.\".format(*boston_pd.shape)"
   ]
  },
  {
   "cell_type": "markdown",
   "metadata": {},
   "source": [
    "> 数据有506个样本 14-1=13个特征"
   ]
  },
  {
   "cell_type": "code",
   "execution_count": 6,
   "metadata": {},
   "outputs": [
    {
     "name": "stdout",
     "output_type": "stream",
     "text": [
      "Statistics for Boston housing dataset:\n",
      "\n",
      "Minimum price: $5.00\n",
      "Maximum price: $50.00\n",
      "Mean price: $22.53\n",
      "Median price $21.20\n",
      "Standard deviation of prices: $9.19\n"
     ]
    }
   ],
   "source": [
    "#计算价值的最小值\n",
    "minimum_price = np.min(boston_pd['PRICE'])\n",
    "\n",
    "#计算价值的最大值\n",
    "maximum_price = np.max(boston_pd['PRICE'])\n",
    "\n",
    "#计算价值的平均值\n",
    "mean_price = np.mean(boston_pd['PRICE'])\n",
    "\n",
    "#计算价值的中值\n",
    "median_price = np.median(boston_pd['PRICE'])\n",
    "\n",
    "#计算价值的标准差\n",
    "std_price = np.std(boston_pd['PRICE'])\n",
    "\n",
    "#输出计算的结果\n",
    "print \"Statistics for Boston housing dataset:\\n\"\n",
    "print \"Minimum price: ${:,.2f}\".format(minimum_price)\n",
    "print \"Maximum price: ${:,.2f}\".format(maximum_price)\n",
    "print \"Mean price: ${:,.2f}\".format(mean_price)\n",
    "print \"Median price ${:,.2f}\".format(median_price)\n",
    "print \"Standard deviation of prices: ${:,.2f}\".format(std_price)"
   ]
  },
  {
   "cell_type": "markdown",
   "metadata": {},
   "source": [
    "> 最低房价: 5.00\n",
    "最高房价: 50.00\n",
    "平均数: 22.53\n",
    "中位数 21.20\n",
    "标准差: 9.19"
   ]
  },
  {
   "cell_type": "markdown",
   "metadata": {},
   "source": [
    "## 可视化部分特征与Lable的关系"
   ]
  },
  {
   "cell_type": "markdown",
   "metadata": {},
   "source": [
    "### 1. 住宅房间数(RM)与房价的关系"
   ]
  },
  {
   "cell_type": "code",
   "execution_count": 7,
   "metadata": {},
   "outputs": [
    {
     "data": {
      "text/plain": [
       "Text(0,0.5,'PRICE')"
      ]
     },
     "execution_count": 7,
     "metadata": {},
     "output_type": "execute_result"
    },
    {
     "data": {
      "image/png": "[encoded data removed]",
      "text/plain": [
       "<Figure size 432x288 with 1 Axes>"
      ]
     },
     "metadata": {},
     "output_type": "display_data"
    }
   ],
   "source": [
    "plt.scatter(boston_pd.RM, boston_pd.PRICE)\n",
    "plt.xlabel('RM')\n",
    "plt.ylabel('PRICE')"
   ]
  },
  {
   "cell_type": "markdown",
   "metadata": {},
   "source": [
    "> 除了一些少数的异常值(outlier)外，房价和房间数基本上呈线性关系。"
   ]
  },
  {
   "cell_type": "markdown",
   "metadata": {},
   "source": [
    "> 数据清洗——试着去掉一些异常值"
   ]
  },
  {
   "cell_type": "code",
   "execution_count": 8,
   "metadata": {
    "collapsed": true
   },
   "outputs": [],
   "source": [
    "# 去异常值\n",
    "def reject_outliers(boston_pd):\n",
    "    u = np.mean(boston_pd.PRICE)\n",
    "    s = np.std(boston_pd.PRICE)\n",
    "    data_filtered = boston_pd[(boston_pd.PRICE > u-2*s) & (boston_pd.PRICE < u+2*s) &\n",
    "                             (boston_pd.RM < 7.2) & (boston_pd.RM > 4.5)]\n",
    "    return data_filtered\n",
    "boston_cleaned = reject_outliers(boston_pd)"
   ]
  },
  {
   "cell_type": "code",
   "execution_count": 9,
   "metadata": {},
   "outputs": [
    {
     "data": {
      "text/plain": [
       "Text(0,0.5,'PRICE')"
      ]
     },
     "execution_count": 9,
     "metadata": {},
     "output_type": "execute_result"
    },
    {
     "data": {
      "image/png": "[encoded data removed]",
      "text/plain": [
       "<Figure size 432x288 with 1 Axes>"
      ]
     },
     "metadata": {},
     "output_type": "display_data"
    }
   ],
   "source": [
    "plt.scatter(boston_cleaned.RM, boston_cleaned.PRICE)\n",
    "plt.xlabel('RM')\n",
    "plt.ylabel('PRICE')"
   ]
  },
  {
   "cell_type": "markdown",
   "metadata": {},
   "source": [
    "### 2. 犯罪率(CRIM)与房价关系"
   ]
  },
  {
   "cell_type": "code",
   "execution_count": 10,
   "metadata": {},
   "outputs": [
    {
     "data": {
      "text/plain": [
       "Text(0,0.5,'PRICE')"
      ]
     },
     "execution_count": 10,
     "metadata": {},
     "output_type": "execute_result"
    },
    {
     "data": {
      "image/png": "[encoded data removed]",
      "text/plain": [
       "<Figure size 432x288 with 1 Axes>"
      ]
     },
     "metadata": {},
     "output_type": "display_data"
    }
   ],
   "source": [
    "plt.scatter(boston_pd.CRIM, boston_pd.PRICE)\n",
    "plt.xlabel('CRIM')\n",
    "plt.ylabel('PRICE')"
   ]
  },
  {
   "cell_type": "markdown",
   "metadata": {},
   "source": [
    "> 从散点图可以直观的看出：犯罪率越低，地方越安全，房价越高"
   ]
  },
  {
   "cell_type": "markdown",
   "metadata": {},
   "source": [
    "### 3. CHAS(Charles River)与房价关系"
   ]
  },
  {
   "cell_type": "code",
   "execution_count": 11,
   "metadata": {},
   "outputs": [
    {
     "data": {
      "text/plain": [
       "<matplotlib.axes._subplots.AxesSubplot at 0x1138ae050>"
      ]
     },
     "execution_count": 11,
     "metadata": {},
     "output_type": "execute_result"
    },
    {
     "data": {
      "image/png": "[encoded data removed]",
      "text/plain": [
       "<Figure size 432x288 with 1 Axes>"
      ]
     },
     "metadata": {},
     "output_type": "display_data"
    }
   ],
   "source": [
    "import seaborn as sns\n",
    "sns.boxplot(data=boston_pd, x='CHAS', y='PRICE')"
   ]
  },
  {
   "cell_type": "markdown",
   "metadata": {},
   "source": [
    "> 箱线图主要包含六个数据节点，将一组数据从大到小排列，分别计算出他的上边缘，上四分位数Q3，中位数Q2，下四分位数Q1，下边缘，还有一个异常值。主要从中位数的偏向来看分布的偏向，从上四分位与下四分位的距离越小说明越集中，否则说明越分散，同理对于上边缘和下边缘。"
   ]
  },
  {
   "cell_type": "markdown",
   "metadata": {},
   "source": [
    "> 从箱线图可以直观的看出：湖景房（右）跟非湖景房（左）比平均价格高不少"
   ]
  },
  {
   "cell_type": "markdown",
   "metadata": {},
   "source": [
    "### 3. 接下来看看其他因素的影响——挑出10所最贵的房子"
   ]
  },
  {
   "cell_type": "code",
   "execution_count": 12,
   "metadata": {},
   "outputs": [
    {
     "data": {
      "text/html": [
       "<div>\n",
       "<style>\n",
       "    .dataframe thead tr:only-child th {\n",
       "        text-align: right;\n",
       "    }\n",
       "\n",
       "    .dataframe thead th {\n",
       "        text-align: left;\n",
       "    }\n",
       "\n",
       "    .dataframe tbody tr th {\n",
       "        vertical-align: top;\n",
       "    }\n",
       "</style>\n",
       "<table border=\"1\" class=\"dataframe\">\n",
       "  <thead>\n",
       "    <tr style=\"text-align: right;\">\n",
       "      <th></th>\n",
       "      <th>CRIM</th>\n",
       "      <th>ZN</th>\n",
       "      <th>INDUS</th>\n",
       "      <th>CHAS</th>\n",
       "      <th>NOX</th>\n",
       "      <th>RM</th>\n",
       "      <th>AGE</th>\n",
       "      <th>DIS</th>\n",
       "      <th>RAD</th>\n",
       "      <th>TAX</th>\n",
       "      <th>PTRATIO</th>\n",
       "      <th>B</th>\n",
       "      <th>LSTAT</th>\n",
       "      <th>PRICE</th>\n",
       "    </tr>\n",
       "  </thead>\n",
       "  <tbody>\n",
       "    <tr>\n",
       "      <th>283</th>\n",
       "      <td>0.01501</td>\n",
       "      <td>90.0</td>\n",
       "      <td>1.21</td>\n",
       "      <td>1.0</td>\n",
       "      <td>0.4010</td>\n",
       "      <td>7.923</td>\n",
       "      <td>24.8</td>\n",
       "      <td>5.8850</td>\n",
       "      <td>1.0</td>\n",
       "      <td>198.0</td>\n",
       "      <td>13.6</td>\n",
       "      <td>395.52</td>\n",
       "      <td>3.16</td>\n",
       "      <td>50.0</td>\n",
       "    </tr>\n",
       "    <tr>\n",
       "      <th>225</th>\n",
       "      <td>0.52693</td>\n",
       "      <td>0.0</td>\n",
       "      <td>6.20</td>\n",
       "      <td>0.0</td>\n",
       "      <td>0.5040</td>\n",
       "      <td>8.725</td>\n",
       "      <td>83.0</td>\n",
       "      <td>2.8944</td>\n",
       "      <td>8.0</td>\n",
       "      <td>307.0</td>\n",
       "      <td>17.4</td>\n",
       "      <td>382.00</td>\n",
       "      <td>4.63</td>\n",
       "      <td>50.0</td>\n",
       "    </tr>\n",
       "    <tr>\n",
       "      <th>369</th>\n",
       "      <td>5.66998</td>\n",
       "      <td>0.0</td>\n",
       "      <td>18.10</td>\n",
       "      <td>1.0</td>\n",
       "      <td>0.6310</td>\n",
       "      <td>6.683</td>\n",
       "      <td>96.8</td>\n",
       "      <td>1.3567</td>\n",
       "      <td>24.0</td>\n",
       "      <td>666.0</td>\n",
       "      <td>20.2</td>\n",
       "      <td>375.33</td>\n",
       "      <td>3.73</td>\n",
       "      <td>50.0</td>\n",
       "    </tr>\n",
       "    <tr>\n",
       "      <th>370</th>\n",
       "      <td>6.53876</td>\n",
       "      <td>0.0</td>\n",
       "      <td>18.10</td>\n",
       "      <td>1.0</td>\n",
       "      <td>0.6310</td>\n",
       "      <td>7.016</td>\n",
       "      <td>97.5</td>\n",
       "      <td>1.2024</td>\n",
       "      <td>24.0</td>\n",
       "      <td>666.0</td>\n",
       "      <td>20.2</td>\n",
       "      <td>392.05</td>\n",
       "      <td>2.96</td>\n",
       "      <td>50.0</td>\n",
       "    </tr>\n",
       "    <tr>\n",
       "      <th>371</th>\n",
       "      <td>9.23230</td>\n",
       "      <td>0.0</td>\n",
       "      <td>18.10</td>\n",
       "      <td>0.0</td>\n",
       "      <td>0.6310</td>\n",
       "      <td>6.216</td>\n",
       "      <td>100.0</td>\n",
       "      <td>1.1691</td>\n",
       "      <td>24.0</td>\n",
       "      <td>666.0</td>\n",
       "      <td>20.2</td>\n",
       "      <td>366.15</td>\n",
       "      <td>9.53</td>\n",
       "      <td>50.0</td>\n",
       "    </tr>\n",
       "    <tr>\n",
       "      <th>372</th>\n",
       "      <td>8.26725</td>\n",
       "      <td>0.0</td>\n",
       "      <td>18.10</td>\n",
       "      <td>1.0</td>\n",
       "      <td>0.6680</td>\n",
       "      <td>5.875</td>\n",
       "      <td>89.6</td>\n",
       "      <td>1.1296</td>\n",
       "      <td>24.0</td>\n",
       "      <td>666.0</td>\n",
       "      <td>20.2</td>\n",
       "      <td>347.88</td>\n",
       "      <td>8.88</td>\n",
       "      <td>50.0</td>\n",
       "    </tr>\n",
       "    <tr>\n",
       "      <th>186</th>\n",
       "      <td>0.05602</td>\n",
       "      <td>0.0</td>\n",
       "      <td>2.46</td>\n",
       "      <td>0.0</td>\n",
       "      <td>0.4880</td>\n",
       "      <td>7.831</td>\n",
       "      <td>53.6</td>\n",
       "      <td>3.1992</td>\n",
       "      <td>3.0</td>\n",
       "      <td>193.0</td>\n",
       "      <td>17.8</td>\n",
       "      <td>392.63</td>\n",
       "      <td>4.45</td>\n",
       "      <td>50.0</td>\n",
       "    </tr>\n",
       "    <tr>\n",
       "      <th>204</th>\n",
       "      <td>0.02009</td>\n",
       "      <td>95.0</td>\n",
       "      <td>2.68</td>\n",
       "      <td>0.0</td>\n",
       "      <td>0.4161</td>\n",
       "      <td>8.034</td>\n",
       "      <td>31.9</td>\n",
       "      <td>5.1180</td>\n",
       "      <td>4.0</td>\n",
       "      <td>224.0</td>\n",
       "      <td>14.7</td>\n",
       "      <td>390.55</td>\n",
       "      <td>2.88</td>\n",
       "      <td>50.0</td>\n",
       "    </tr>\n",
       "    <tr>\n",
       "      <th>257</th>\n",
       "      <td>0.61154</td>\n",
       "      <td>20.0</td>\n",
       "      <td>3.97</td>\n",
       "      <td>0.0</td>\n",
       "      <td>0.6470</td>\n",
       "      <td>8.704</td>\n",
       "      <td>86.9</td>\n",
       "      <td>1.8010</td>\n",
       "      <td>5.0</td>\n",
       "      <td>264.0</td>\n",
       "      <td>13.0</td>\n",
       "      <td>389.70</td>\n",
       "      <td>5.12</td>\n",
       "      <td>50.0</td>\n",
       "    </tr>\n",
       "    <tr>\n",
       "      <th>195</th>\n",
       "      <td>0.01381</td>\n",
       "      <td>80.0</td>\n",
       "      <td>0.46</td>\n",
       "      <td>0.0</td>\n",
       "      <td>0.4220</td>\n",
       "      <td>7.875</td>\n",
       "      <td>32.0</td>\n",
       "      <td>5.6484</td>\n",
       "      <td>4.0</td>\n",
       "      <td>255.0</td>\n",
       "      <td>14.4</td>\n",
       "      <td>394.23</td>\n",
       "      <td>2.97</td>\n",
       "      <td>50.0</td>\n",
       "    </tr>\n",
       "  </tbody>\n",
       "</table>\n",
       "</div>"
      ],
      "text/plain": [
       "        CRIM    ZN  INDUS  CHAS     NOX     RM    AGE     DIS   RAD    TAX  \\\n",
       "283  0.01501  90.0   1.21   1.0  0.4010  7.923   24.8  5.8850   1.0  198.0   \n",
       "225  0.52693   0.0   6.20   0.0  0.5040  8.725   83.0  2.8944   8.0  307.0   \n",
       "369  5.66998   0.0  18.10   1.0  0.6310  6.683   96.8  1.3567  24.0  666.0   \n",
       "370  6.53876   0.0  18.10   1.0  0.6310  7.016   97.5  1.2024  24.0  666.0   \n",
       "371  9.23230   0.0  18.10   0.0  0.6310  6.216  100.0  1.1691  24.0  666.0   \n",
       "372  8.26725   0.0  18.10   1.0  0.6680  5.875   89.6  1.1296  24.0  666.0   \n",
       "186  0.05602   0.0   2.46   0.0  0.4880  7.831   53.6  3.1992   3.0  193.0   \n",
       "204  0.02009  95.0   2.68   0.0  0.4161  8.034   31.9  5.1180   4.0  224.0   \n",
       "257  0.61154  20.0   3.97   0.0  0.6470  8.704   86.9  1.8010   5.0  264.0   \n",
       "195  0.01381  80.0   0.46   0.0  0.4220  7.875   32.0  5.6484   4.0  255.0   \n",
       "\n",
       "     PTRATIO       B  LSTAT  PRICE  \n",
       "283     13.6  395.52   3.16   50.0  \n",
       "225     17.4  382.00   4.63   50.0  \n",
       "369     20.2  375.33   3.73   50.0  \n",
       "370     20.2  392.05   2.96   50.0  \n",
       "371     20.2  366.15   9.53   50.0  \n",
       "372     20.2  347.88   8.88   50.0  \n",
       "186     17.8  392.63   4.45   50.0  \n",
       "204     14.7  390.55   2.88   50.0  \n",
       "257     13.0  389.70   5.12   50.0  \n",
       "195     14.4  394.23   2.97   50.0  "
      ]
     },
     "execution_count": 12,
     "metadata": {},
     "output_type": "execute_result"
    }
   ],
   "source": [
    "# 10所最贵房子\n",
    "TOP_10 = boston_pd.sort_values(by='PRICE', ascending=False)[:10]\n",
    "TOP_10"
   ]
  },
  {
   "cell_type": "code",
   "execution_count": 13,
   "metadata": {},
   "outputs": [
    {
     "data": {
      "text/plain": [
       "<matplotlib.lines.Line2D at 0x113d38650>"
      ]
     },
     "execution_count": 13,
     "metadata": {},
     "output_type": "execute_result"
    },
    {
     "data": {
      "image/png": "[encoded data removed]",
      "text/plain": [
       "<Figure size 864x360 with 4 Axes>"
      ]
     },
     "metadata": {},
     "output_type": "display_data"
    }
   ],
   "source": [
    "fig = plt.figure(figsize=(12,5))\n",
    "\n",
    "ax1 = fig.add_subplot(141)\n",
    "plt.title('CIRM')\n",
    "plt.barh(np.arange(10), TOP_10.CRIM, height=0.5)\n",
    "plt.axvline(x=boston_pd.CRIM.mean(), color='r', ls='--', lw=1.5)\n",
    "\n",
    "ax1 = fig.add_subplot(142)\n",
    "plt.title('NOX')\n",
    "plt.barh(np.arange(10), TOP_10.NOX, height=0.5)\n",
    "plt.axvline(x=boston_pd.NOX.mean(), color='r', ls='--', lw=1.5)\n",
    "\n",
    "ax1 = fig.add_subplot(143)\n",
    "plt.title('AGE')\n",
    "plt.barh(np.arange(10), TOP_10.AGE, height=0.5)\n",
    "plt.axvline(x=boston_pd.AGE.mean(), color='r', ls='--', lw=1.5)\n",
    "\n",
    "ax1 = fig.add_subplot(144)\n",
    "plt.title('LSTAT')\n",
    "plt.barh(np.arange(10), TOP_10.LSTAT, height=0.5)\n",
    "plt.axvline(x=boston_pd.LSTAT.mean(), color='r', ls='--', lw=1.5)"
   ]
  },
  {
   "cell_type": "markdown",
   "metadata": {},
   "source": [
    "> 说到这个犯罪率，看样子不怕贼偷，就怕贼惦记啊，可能就盗窃案还真可能富人区发生的概率更高，毕竟随手顺走点东西搞不好就是值钱货；"
   ]
  },
  {
   "cell_type": "markdown",
   "metadata": {},
   "source": [
    "> 而作为氮氧化污染物，若是一个城市整体的空气质量不佳，钱再多装啥新风系统也作用不是很大，看起来的确保护环境人人有责；"
   ]
  },
  {
   "cell_type": "markdown",
   "metadata": {},
   "source": [
    "> 而房龄这个因素，发现高房价区域很大部分房龄超过50年了（哥，拆迁办不给力啊）；"
   ]
  },
  {
   "cell_type": "markdown",
   "metadata": {},
   "source": [
    "> 最后一个因素低收入人群比例这个区域远远低于平均数，说明一个问题：能买得起房子的都是有钱人，特别是贵的房子。这不是废话吗23333"
   ]
  },
  {
   "cell_type": "markdown",
   "metadata": {},
   "source": [
    "## 纯python实现一元线性回归(房价与房间数)"
   ]
  },
  {
   "cell_type": "markdown",
   "metadata": {},
   "source": [
    "一元线性回归算法即为：$y=mx+b$。损失函数$Loss=\\sum_{i=1}^{N}(y_i-(mx_i+b))^2$。为了使损失函数最小，故采用梯度下降法寻找更优的m和b值,直至收敛！"
   ]
  },
  {
   "cell_type": "markdown",
   "metadata": {},
   "source": [
    "$$\\frac{\\partial Loss}{\\partial m}=\\frac{\\frac{1}{N}\\sum_{i=1}^{N}(y_i-(mx_i+b))^2}{\\partial m}=-\\frac{2}{N}\\sum_{i=1}^{N}x_i(y_i-(mx_i+b))$$"
   ]
  },
  {
   "cell_type": "markdown",
   "metadata": {},
   "source": [
    "$$\\frac{\\partial Loss}{\\partial b}=\\frac{\\frac{1}{N}\\sum_{i=1}^{N}(y_i-(mx_i+b))^2}{\\partial b}=-\\frac{2}{N}\\sum_{i=1}^{N}(y_i-(mx_i+b))$$"
   ]
  },
  {
   "cell_type": "markdown",
   "metadata": {},
   "source": [
    "$$m_{new}=m+\\frac{\\partial Loss}{\\partial m}$$"
   ]
  },
  {
   "cell_type": "markdown",
   "metadata": {},
   "source": [
    "$$b_{new}=b+\\frac{\\partial Loss}{\\partial b}$$"
   ]
  },
  {
   "cell_type": "markdown",
   "metadata": {},
   "source": [
    "> 这里用了加号，很多人会误以为梯度下降就要减，但是其实梯度本身是有方向的，所以这里直接加就可以。"
   ]
  },
  {
   "cell_type": "markdown",
   "metadata": {},
   "source": [
    "## 上代码(纯python实现)："
   ]
  },
  {
   "cell_type": "markdown",
   "metadata": {},
   "source": [
    "### 1. boston_pd 原始数据"
   ]
  },
  {
   "cell_type": "code",
   "execution_count": 14,
   "metadata": {
    "collapsed": true
   },
   "outputs": [],
   "source": [
    "x = np.array(boston_pd.RM)\n",
    "y = np.array(boston_pd.PRICE)"
   ]
  },
  {
   "cell_type": "code",
   "execution_count": 15,
   "metadata": {},
   "outputs": [
    {
     "name": "stdout",
     "output_type": "stream",
     "text": [
      "initial variables:\n",
      " initial_b = 0.0\n",
      " intial_m = 0.0\n",
      " error of begin = 592.146916996 \n",
      "\n",
      "iter 0:error=508.322622587\n",
      "iter 100:error=58.8191396159\n",
      "iter 200:error=58.7461047752\n",
      "iter 300:error=58.6734370789\n",
      "iter 400:error=58.601118039\n",
      "final formula parmaters:\n",
      " b = 0.139151930447\n",
      " m=3.629836237\n",
      " error of end = 58.5298639912 \n",
      "\n"
     ]
    },
    {
     "data": {
      "image/png": "[encoded data removed]",
      "text/plain": [
       "<Figure size 432x288 with 1 Axes>"
      ]
     },
     "metadata": {},
     "output_type": "display_data"
    }
   ],
   "source": [
    "def compute_error(b,m,x,y):\n",
    "    totalError = 0\n",
    "    #Two ways to implement this\n",
    "    #first way\n",
    "    for i in range(0,len(x)):\n",
    "        totalError += (y[i]-(m*x[i]+b))**2\n",
    "\n",
    "    return totalError/float(len(x))\n",
    "\n",
    "def optimizer(x, y, starting_b,starting_m,learning_rate,num_iter):\n",
    "    b = starting_b\n",
    "    m = starting_m\n",
    "\n",
    "    #gradient descent 梯度下降法\n",
    "    for i in range(num_iter):\n",
    "        #update b and m with the new more accurate b and m by performing\n",
    "        # thie gradient step\n",
    "        b,m =compute_gradient(b, m, x, y, learning_rate)\n",
    "        if i%100==0:\n",
    "            print 'iter {0}:error={1}'.format(i,compute_error(b,m,x,y))\n",
    "    return [b,m]\n",
    "\n",
    "def compute_gradient(b_current, m_current, x, y, learning_rate):\n",
    "\n",
    "    b_gradient = 0\n",
    "    m_gradient = 0\n",
    "\n",
    "    N = float(len(x))\n",
    "    #Two ways to implement this\n",
    "    #first way\n",
    "    for i in range(0,len(x)):\n",
    "        #computing partial derivations of our error function    \n",
    "        m_gradient += -(2/N) * x[i] * (y[i]-((m_current*x[i])+b_current))\n",
    "        b_gradient += -(2/N)*(y[i]-((m_current*x[i])+b_current))\n",
    "\n",
    "    new_b = b_current - (learning_rate * b_gradient)\n",
    "    new_m = m_current - (learning_rate * m_gradient)\n",
    "    return [new_b,new_m]\n",
    "\n",
    "\n",
    "def plot_data(x,y,b,m):\n",
    "\n",
    "    #plottting\n",
    "    y_predict = m*x+b\n",
    "    plt.plot(x,y,'o')\n",
    "    plt.plot(x,y_predict,'g-')\n",
    "    plt.xlabel('RM')\n",
    "    plt.ylabel('PRICE')\n",
    "    plt.show()\n",
    "\n",
    "\n",
    "def Linear_regression():\n",
    "    #define hyperparamters\n",
    "    #learning_rate is used for update gradient\n",
    "    #defint the number that will iteration\n",
    "    # define  y =mx+b\n",
    "    learning_rate = 0.001\n",
    "    initial_b = 0.0\n",
    "    initial_m = 0.0\n",
    "    num_iter = 500\n",
    "\n",
    "    #train model\n",
    "    #print b m error\n",
    "    print 'initial variables:\\n initial_b = {0}\\n intial_m = {1}\\n error of begin = {2} \\n'.format(initial_b,initial_m,compute_error(initial_b,initial_m,x,y))\n",
    "\n",
    "    #optimizing b and m\n",
    "    [b ,m] = optimizer(x,y,initial_b,initial_m,learning_rate,num_iter)\n",
    "\n",
    "    #print final b m error\n",
    "    print 'final formula parmaters:\\n b = {1}\\n m={2}\\n error of end = {3} \\n'.format(num_iter,b,m,compute_error(b,m,x,y))\n",
    "\n",
    "    #plot result\n",
    "    plot_data(x,y,b,m)\n",
    "\n",
    "Linear_regression()"
   ]
  },
  {
   "cell_type": "markdown",
   "metadata": {},
   "source": [
    "### 2. boston_cleaned 清洗后的数据"
   ]
  },
  {
   "cell_type": "code",
   "execution_count": 16,
   "metadata": {},
   "outputs": [
    {
     "name": "stdout",
     "output_type": "stream",
     "text": [
      "initial variables:\n",
      " initial_b = 0.0\n",
      " intial_m = 0.0\n",
      " error of begin = 456.767817372 \n",
      "\n",
      "iter 0:error=392.62947688\n",
      "iter 100:error=30.6749245928\n",
      "iter 200:error=30.6637605557\n",
      "iter 300:error=30.6526527762\n",
      "iter 400:error=30.6415714452\n",
      "final formula parmaters:\n",
      " b = 0.360975350741\n",
      " m=3.28270642789\n",
      " error of end = 30.6306269189 \n",
      "\n"
     ]
    },
    {
     "data": {
      "image/png": "[encoded data removed]",
      "text/plain": [
       "<Figure size 432x288 with 1 Axes>"
      ]
     },
     "metadata": {},
     "output_type": "display_data"
    }
   ],
   "source": [
    "x = np.array(boston_cleaned.RM)\n",
    "y = np.array(boston_cleaned.PRICE)\n",
    "Linear_regression()"
   ]
  },
  {
   "cell_type": "markdown",
   "metadata": {},
   "source": [
    "## 利用sklearn实现多元线性回归"
   ]
  },
  {
   "cell_type": "code",
   "execution_count": 17,
   "metadata": {
    "collapsed": true
   },
   "outputs": [],
   "source": [
    "#切割数据样本集合测试集 80%训练数据，20%的测试数据\n",
    "X_train,x_test,y_train,y_true = train_test_split(train,target,test_size=0.2)"
   ]
  },
  {
   "cell_type": "markdown",
   "metadata": {},
   "source": [
    "> 一个模型需要测试数据去评价，通过测试数据可以知道一个模型在独立数据集上的表现；同时测试数据还能用来检验过拟合以及欠拟合。利用测试集对训练出来的模型进行验证，可以提高模型的泛化能力。关于为什么要把训练集和测试集分为80% / 20%，在网上找了很多解释似乎都指向了玄学范畴，但是我个人理解的是，太少的训练集合会导致数据极度容易过拟合，而且小的训练集合里面会包含不少噪音，这就很难弄出复杂度稍微高一点的模型；而过多的训练集则会很难准确验证模型的泛化能力。玄学方案一般采用$\\frac 2 3 到 \\frac 4 5$的数据作为训练集。"
   ]
  },
  {
   "cell_type": "markdown",
   "metadata": {},
   "source": [
    "## 创建学习模型"
   ]
  },
  {
   "cell_type": "code",
   "execution_count": 18,
   "metadata": {
    "collapsed": true
   },
   "outputs": [],
   "source": [
    "linear = LinearRegression()\n",
    "ridge = Ridge()\n",
    "lasso = Lasso()\n",
    "decision = DecisionTreeRegressor()\n",
    "elastic = ElasticNet()"
   ]
  },
  {
   "cell_type": "markdown",
   "metadata": {},
   "source": [
    "## 训练模型(各项参数均使用默认值)"
   ]
  },
  {
   "cell_type": "code",
   "execution_count": 19,
   "metadata": {},
   "outputs": [
    {
     "data": {
      "text/plain": [
       "LinearRegression(copy_X=True, fit_intercept=True, n_jobs=1, normalize=False)"
      ]
     },
     "execution_count": 19,
     "metadata": {},
     "output_type": "execute_result"
    }
   ],
   "source": [
    "linear.fit(X_train,y_train)"
   ]
  },
  {
   "cell_type": "code",
   "execution_count": 20,
   "metadata": {},
   "outputs": [
    {
     "data": {
      "text/plain": [
       "Ridge(alpha=1.0, copy_X=True, fit_intercept=True, max_iter=None,\n",
       "   normalize=False, random_state=None, solver='auto', tol=0.001)"
      ]
     },
     "execution_count": 20,
     "metadata": {},
     "output_type": "execute_result"
    }
   ],
   "source": [
    "ridge.fit(X_train,y_train)"
   ]
  },
  {
   "cell_type": "code",
   "execution_count": 21,
   "metadata": {},
   "outputs": [
    {
     "data": {
      "text/plain": [
       "Lasso(alpha=1.0, copy_X=True, fit_intercept=True, max_iter=1000,\n",
       "   normalize=False, positive=False, precompute=False, random_state=None,\n",
       "   selection='cyclic', tol=0.0001, warm_start=False)"
      ]
     },
     "execution_count": 21,
     "metadata": {},
     "output_type": "execute_result"
    }
   ],
   "source": [
    "lasso.fit(X_train,y_train)"
   ]
  },
  {
   "cell_type": "code",
   "execution_count": null,
   "metadata": {
    "collapsed": true
   },
   "outputs": [],
   "source": [
    "decision.fit(X_train,y_train)"
   ]
  },
  {
   "cell_type": "code",
   "execution_count": 29,
   "metadata": {},
   "outputs": [
    {
     "data": {
      "text/plain": [
       "{'criterion': 'mse',\n",
       " 'max_depth': None,\n",
       " 'max_features': None,\n",
       " 'max_leaf_nodes': None,\n",
       " 'min_impurity_decrease': 0.0,\n",
       " 'min_impurity_split': None,\n",
       " 'min_samples_leaf': 1,\n",
       " 'min_samples_split': 2,\n",
       " 'min_weight_fraction_leaf': 0.0,\n",
       " 'presort': False,\n",
       " 'random_state': None,\n",
       " 'splitter': 'best'}"
      ]
     },
     "execution_count": 29,
     "metadata": {},
     "output_type": "execute_result"
    }
   ],
   "source": [
    "decision.get_params(\"max_depth\")"
   ]
  },
  {
   "cell_type": "code",
   "execution_count": 23,
   "metadata": {},
   "outputs": [
    {
     "data": {
      "text/plain": [
       "ElasticNet(alpha=1.0, copy_X=True, fit_intercept=True, l1_ratio=0.5,\n",
       "      max_iter=1000, normalize=False, positive=False, precompute=False,\n",
       "      random_state=None, selection='cyclic', tol=0.0001, warm_start=False)"
      ]
     },
     "execution_count": 23,
     "metadata": {},
     "output_type": "execute_result"
    }
   ],
   "source": [
    "elastic.fit(X_train,y_train)"
   ]
  },
  {
   "cell_type": "markdown",
   "metadata": {},
   "source": [
    "## 预测数据"
   ]
  },
  {
   "cell_type": "code",
   "execution_count": 24,
   "metadata": {
    "collapsed": true
   },
   "outputs": [],
   "source": [
    "y_pre_linear = linear.predict(x_test)\n",
    "y_pre_ridge = ridge.predict(x_test)\n",
    "y_pre_lasso = lasso.predict(x_test)\n",
    "y_pre_decision = decision.predict(x_test)\n",
    "y_pre_elastic = elastic.predict(x_test)"
   ]
  },
  {
   "cell_type": "markdown",
   "metadata": {},
   "source": [
    "## 评分(按降序)"
   ]
  },
  {
   "cell_type": "code",
   "execution_count": 25,
   "metadata": {},
   "outputs": [
    {
     "name": "stdout",
     "output_type": "stream",
     "text": [
      "linear_score = 0.743291654157\n",
      "ridge_score = 0.740987196304\n",
      "lasso_score = 0.712630748055\n",
      "decision_score = 0.611031371069\n",
      "elastic_score = 0.710027055359\n",
      "\n"
     ]
    },
    {
     "data": {
      "text/plain": [
       "<BarContainer object of 5 artists>"
      ]
     },
     "execution_count": 25,
     "metadata": {},
     "output_type": "execute_result"
    },
    {
     "data": {
      "image/png": "[encoded data removed]",
      "text/plain": [
       "<Figure size 432x288 with 1 Axes>"
      ]
     },
     "metadata": {},
     "output_type": "display_data"
    }
   ],
   "source": [
    "#knn_score = r2_score(y_true,y_pre_knn)\n",
    "linear_score=r2_score(y_true,y_pre_linear)\n",
    "ridge_score=r2_score(y_true,y_pre_ridge)\n",
    "lasso_score=r2_score(y_true,y_pre_lasso)\n",
    "decision_score=r2_score(y_true,y_pre_decision)\n",
    "elastic_score=r2_score(y_true,y_pre_elastic)\n",
    "#svr_score=r2_score(y_true,y_pre_svr)\n",
    "# display(knn_score,linear_score,ridge_score,lasso_score,decision_score,svr_score)\n",
    "print \"linear_score = %s\\nridge_score = %s\\nlasso_score = %s\\ndecision_score = %s\\nelastic_score = %s\\n\"%(linear_score,ridge_score,lasso_score,decision_score,elastic_score)\n",
    "method = ['linear','ridge','lasso','decision','elastic']\n",
    "score = [linear_score, ridge_score, lasso_score, decision_score, elastic_score]\n",
    "s = pd.DataFrame(data=score,index=method)\n",
    "ss = s.sort_values(by=0,ascending=False)\n",
    "fig = plt.figure()  \n",
    "plt.bar(ss.index, ss[0], 0.4)  "
   ]
  },
  {
   "cell_type": "markdown",
   "metadata": {},
   "source": [
    "## 可视化"
   ]
  },
  {
   "cell_type": "code",
   "execution_count": 26,
   "metadata": {},
   "outputs": [
    {
     "data": {
      "text/plain": [
       "<matplotlib.legend.Legend at 0x11452d5d0>"
      ]
     },
     "execution_count": 26,
     "metadata": {},
     "output_type": "execute_result"
    },
    {
     "data": {
      "image/png": "[encoded data removed]",
      "text/plain": [
       "<Figure size 432x288 with 1 Axes>"
      ]
     },
     "metadata": {},
     "output_type": "display_data"
    }
   ],
   "source": [
    "# Linear\n",
    "plt.plot(y_true,label='true')\n",
    "plt.plot(y_pre_linear,label='linear')\n",
    "plt.legend()\n",
    "\n",
    "# Ridge\n",
    "# plt.plot(y_true,label='true')\n",
    "# plt.plot(y_pre_ridge,label='ridge')\n",
    "# plt.legend()\n",
    "\n",
    "# lasso\n",
    "# plt.plot(y_true,label='true')\n",
    "# plt.plot(y_pre_lasso,label='lasso')\n",
    "# plt.legend()\n",
    "\n",
    "# decision\n",
    "# plt.plot(y_true,label='true')\n",
    "# plt.plot(y_pre_decision,label='decision')\n",
    "# plt.legend()"
   ]
  }
 ],
 "metadata": {
  "kernelspec": {
   "display_name": "Python 2",
   "language": "python",
   "name": "python2"
  },
  "language_info": {
   "codemirror_mode": {
    "name": "ipython",
    "version": 2
   },
   "file_extension": ".py",
   "mimetype": "text/x-python",
   "name": "python",
   "nbconvert_exporter": "python",
   "pygments_lexer": "ipython2",
   "version": "2.7.11"
  }
 },
 "nbformat": 4,
 "nbformat_minor": 2
}
