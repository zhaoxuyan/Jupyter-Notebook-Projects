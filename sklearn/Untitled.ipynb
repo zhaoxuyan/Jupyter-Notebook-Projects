{
 "cells": [
  {
   "cell_type": "code",
   "execution_count": 1,
   "metadata": {
    "collapsed": true
   },
   "outputs": [],
   "source": [
    "import dlib\n",
    "import numpy as np\n",
    "import cv2\n",
    "\n",
    "def hog(image):\n",
    "    hog = cv2.HOGDescriptor()\n",
    "    h = hog.compute(image)\n",
    "    return h"
   ]
  },
  {
   "cell_type": "code",
   "execution_count": 2,
   "metadata": {},
   "outputs": [
    {
     "data": {
      "text/plain": [
       "array([[ 0.0806524 ],\n",
       "       [ 0.04208496],\n",
       "       [ 0.09564554],\n",
       "       ..., \n",
       "       [ 0.05842623],\n",
       "       [ 0.04129683],\n",
       "       [ 0.08475121]], dtype=float32)"
      ]
     },
     "execution_count": 2,
     "metadata": {},
     "output_type": "execute_result"
    }
   ],
   "source": [
    "im = cv2.imread(\"/Users/zhaoxuyan/Desktop/test.jpg\")\n",
    "h = hog(im)\n",
    "h"
   ]
  },
  {
   "cell_type": "code",
   "execution_count": null,
   "metadata": {
    "collapsed": true
   },
   "outputs": [],
   "source": []
  }
 ],
 "metadata": {
  "kernelspec": {
   "display_name": "Python 2",
   "language": "python",
   "name": "python2"
  },
  "language_info": {
   "codemirror_mode": {
    "name": "ipython",
    "version": 2
   },
   "file_extension": ".py",
   "mimetype": "text/x-python",
   "name": "python",
   "nbconvert_exporter": "python",
   "pygments_lexer": "ipython2",
   "version": "2.7.11"
  }
 },
 "nbformat": 4,
 "nbformat_minor": 2
}
