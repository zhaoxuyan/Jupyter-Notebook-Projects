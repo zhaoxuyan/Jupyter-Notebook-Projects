{
 "cells": [
  {
   "cell_type": "markdown",
   "metadata": {},
   "source": [
    "# genki-4k 数据集 人脸表情检测"
   ]
  },
  {
   "cell_type": "markdown",
   "metadata": {},
   "source": [
    "## 定义face_cutter：识别人脸并裁剪"
   ]
  },
  {
   "cell_type": "code",
   "execution_count": 38,
   "metadata": {
    "collapsed": true
   },
   "outputs": [],
   "source": [
    "def face_cutter(file,k):\n",
    "    import dlib\n",
    "    import numpy as np\n",
    "    import cv2\n",
    "    # dlib预测器\n",
    "    detector = dlib.get_frontal_face_detector()\n",
    "    predictor = dlib.shape_predictor\n",
    "    ('/Users/zhaoxuyan/Desktop/shape_predictor_68_face_landmarks.dat')\n",
    "    # 读取图片路径\n",
    "    img = cv2.imread(file,0)\n",
    "    path_save = '/Users/zhaoxuyan/Desktop/genki-4k-cutted-num/'\n",
    "    \n",
    "    # dlib检测\n",
    "    dets = detector(img, 1)\n",
    "    \n",
    "    try:\n",
    "        if(len(dets) == 1):\n",
    "            for m,d in enumerate(dets):\n",
    "                # 计算矩阵大小\n",
    "                pos_start = tuple([d.left(), d.top()])\n",
    "                pos_end = tuple([d.right(), d.bottom()])\n",
    "\n",
    "                print (k)\n",
    "                # 计算矩形框大小\n",
    "                height = d.bottom() - d.top()\n",
    "                width = d.right() - d.left()\n",
    "\n",
    "                # 根据人脸大小生成空的图像\n",
    "                img_blank = np.zeros((height, width, 3), np.uint8)\n",
    "\n",
    "                for i in range(height):\n",
    "                    for j in range(width):\n",
    "                        img_blank[i][j] = img[d.top() + i][d.left() + j]\n",
    "                \n",
    "                cv2.imwrite(path_save+str(k)+\".jpg\", img_blank)\n",
    "        else:\n",
    "            print (\"未检测到人脸的图片：\",file)\n",
    "    except Exception:\n",
    "        pass"
   ]
  },
  {
   "cell_type": "code",
   "execution_count": 9,
   "metadata": {},
   "outputs": [],
   "source": [
    "import os  \n",
    "path_read = \"/Users/zhaoxuyan/Desktop/genki-4k\"  #待读取的文件夹  \n",
    "files=os.listdir(path_read)  \n",
    "files.sort() #对读取的路径进行排序  \n",
    "k=0\n",
    "for file in files: \n",
    "    k=k+1\n",
    "    face_cutter(os.path.join(path_read,file),k)"
   ]
  },
  {
   "cell_type": "markdown",
   "metadata": {
    "collapsed": true
   },
   "source": [
    "## HOG特征提取"
   ]
  },
  {
   "cell_type": "code",
   "execution_count": 6,
   "metadata": {
    "collapsed": true
   },
   "outputs": [],
   "source": [
    "import dlib\n",
    "import numpy as np\n",
    "import cv2\n",
    "\n",
    "def hog(image):\n",
    "    hog = cv2.HOGDescriptor()\n",
    "    h = hog.compute(image)\n",
    "    return h"
   ]
  },
  {
   "cell_type": "code",
   "execution_count": 4,
   "metadata": {
    "collapsed": true
   },
   "outputs": [],
   "source": [
    "#提取目录下所有图片,更改尺寸后保存到另一目录  \n",
    "from PIL import Image  \n",
    "import os.path  \n",
    "import glob  \n",
    "def convertjpg(jpgfile,outdir,width=128,height=128):  \n",
    "    img=Image.open(jpgfile)  \n",
    "    try:  \n",
    "        new_img=img.resize((width,height),Image.BILINEAR)     \n",
    "        new_img.save(os.path.join(outdir,os.path.basename(jpgfile)))  \n",
    "    except Exception as e:  \n",
    "        print(e)  \n",
    "for jpgfile in glob.glob(\"/Users/zhaoxuyan/Desktop/genki-4k-cutted-num/*.jpg\"):  \n",
    "    convertjpg(jpgfile,\"/Users/zhaoxuyan/Desktop/genki-4k-resize-num\")  "
   ]
  },
  {
   "cell_type": "markdown",
   "metadata": {},
   "source": [
    "## 得到data和target"
   ]
  },
  {
   "cell_type": "code",
   "execution_count": 7,
   "metadata": {
    "collapsed": true
   },
   "outputs": [],
   "source": [
    "X=[]\n",
    "import os  \n",
    "path=\"/Users/zhaoxuyan/Desktop/genki-4k-resize-num\"  #待读取的文件夹  \n",
    "files=os.listdir(path)  \n",
    "files.sort(key= lambda x:int(x[:-4])) #对读取的路径进行排序  \n",
    "for file in files:  \n",
    "    im = cv2.imread(os.path.join(path,file))\n",
    "    h = hog(im)\n",
    "    X.append(h)"
   ]
  },
  {
   "cell_type": "markdown",
   "metadata": {},
   "source": [
    "## 去掉了识别不出人脸的图像"
   ]
  },
  {
   "cell_type": "code",
   "execution_count": 4,
   "metadata": {
    "collapsed": true
   },
   "outputs": [],
   "source": [
    "y_1 =  [1 for x in range(1,2163)]  \n",
    "y_0 = [0 for x in range(2163,3778)]\n",
    "y = y_1 + y_0"
   ]
  },
  {
   "cell_type": "code",
   "execution_count": 6,
   "metadata": {
    "collapsed": true
   },
   "outputs": [],
   "source": [
    "B=[]\n",
    "for i in range(0,len(X)):\n",
    "    A=X[i].reshape(1,-1)\n",
    "    B.append(A[0])"
   ]
  },
  {
   "cell_type": "code",
   "execution_count": 8,
   "metadata": {
    "collapsed": true
   },
   "outputs": [],
   "source": [
    "data = B\n",
    "target = y"
   ]
  },
  {
   "cell_type": "markdown",
   "metadata": {},
   "source": [
    "## 训练集验证集拆分"
   ]
  },
  {
   "cell_type": "code",
   "execution_count": 9,
   "metadata": {
    "collapsed": true
   },
   "outputs": [],
   "source": [
    "from sklearn.model_selection import train_test_split\n",
    "\n",
    "X_train, X_test, y_train, y_test = train_test_split(\n",
    "        data, target, test_size=0.25, random_state=0)"
   ]
  },
  {
   "cell_type": "markdown",
   "metadata": {},
   "source": [
    "## sklearn SVM"
   ]
  },
  {
   "cell_type": "code",
   "execution_count": 10,
   "metadata": {
    "collapsed": true
   },
   "outputs": [],
   "source": [
    "from sklearn.svm import SVC\n",
    "clf = SVC(kernel='linear')"
   ]
  },
  {
   "cell_type": "markdown",
   "metadata": {},
   "source": [
    "## k折交叉验证"
   ]
  },
  {
   "cell_type": "code",
   "execution_count": 11,
   "metadata": {},
   "outputs": [
    {
     "name": "stdout",
     "output_type": "stream",
     "text": [
      "Accuracy: 0.82 (+/- 0.01)\n",
      "交叉验证时间： 194.83248925209045\n"
     ]
    }
   ],
   "source": [
    "from sklearn.model_selection import cross_val_score\n",
    "import time\n",
    "time_start=time.time()\n",
    "scores = cross_val_score(clf, X_train, y_train, cv=2)\n",
    "print(\"Accuracy: %0.2f (+/- %0.2f)\" % (scores.mean(), scores.std() * 2))\n",
    "time_end=time.time()\n",
    "print('交叉验证时间：',time_end-time_start)"
   ]
  },
  {
   "cell_type": "markdown",
   "metadata": {},
   "source": [
    "> - 2折交叉验证分数：82(+/- 1)%\n",
    "- 交叉验证时间： 194.83248925209045 s"
   ]
  },
  {
   "cell_type": "markdown",
   "metadata": {},
   "source": [
    "## 训练"
   ]
  },
  {
   "cell_type": "code",
   "execution_count": 12,
   "metadata": {
    "collapsed": true
   },
   "outputs": [],
   "source": [
    "from sklearn import metrics\n",
    "\n",
    "def train_and_evaluate(clf, X_train, X_test, y_train, y_test):\n",
    "    \n",
    "    clf.fit(X_train, y_train)\n",
    "\n",
    "    time_start=time.time()\n",
    "    print (\"Accuracy on training set:\")\n",
    "    print (clf.score(X_train, y_train)) \n",
    "    time_end=time.time()\n",
    "    print('模型训练时长：',time_end-time_start)\n",
    "    \n",
    "    print (\"Accuracy on testing set:\")\n",
    "    print (clf.score(X_test, y_test))\n",
    "    \n",
    "    y_pred = clf.predict(X_test)\n",
    "    \n",
    "    print (\"Classification Report:\")\n",
    "    print (metrics.classification_report(y_test, y_pred))\n",
    "    print (\"Confusion Matrix:\")\n",
    "    print (metrics.confusion_matrix(y_test, y_pred))"
   ]
  },
  {
   "cell_type": "markdown",
   "metadata": {},
   "source": [
    "## 评价(precision  recall  f1-score)"
   ]
  },
  {
   "cell_type": "code",
   "execution_count": 13,
   "metadata": {},
   "outputs": [
    {
     "name": "stdout",
     "output_type": "stream",
     "text": [
      "Accuracy on training set:\n",
      "1.0\n",
      "模型训练时长： 151.17432117462158\n",
      "Accuracy on testing set:\n",
      "0.8317460317460318\n",
      "Classification Report:\n",
      "             precision    recall  f1-score   support\n",
      "\n",
      "          0       0.81      0.80      0.81       414\n",
      "          1       0.85      0.85      0.85       531\n",
      "\n",
      "avg / total       0.83      0.83      0.83       945\n",
      "\n",
      "Confusion Matrix:\n",
      "[[332  82]\n",
      " [ 77 454]]\n"
     ]
    }
   ],
   "source": [
    "train_and_evaluate(clf, X_train, X_test, y_train, y_test)"
   ]
  },
  {
   "cell_type": "markdown",
   "metadata": {},
   "source": [
    "> - 模型训练时间：151.17432117462158 s\n",
    "- 训练准确率：100%\n",
    "- 验证准确率：83%\n",
    "- 精确率：83%\n",
    "- 召回率：83%\n",
    "- F1 score：83%"
   ]
  },
  {
   "cell_type": "markdown",
   "metadata": {},
   "source": [
    "## 保存训练好的模型到本地"
   ]
  },
  {
   "cell_type": "code",
   "execution_count": 14,
   "metadata": {},
   "outputs": [
    {
     "data": {
      "text/plain": [
       "['train_model.m']"
      ]
     },
     "execution_count": 14,
     "metadata": {},
     "output_type": "execute_result"
    }
   ],
   "source": [
    "from sklearn.externals import joblib\n",
    "os.chdir(\"/Users/zhaoxuyan/Desktop/genki-4k-model\")\n",
    "joblib.dump(clf, \"train_model.m\")"
   ]
  },
  {
   "cell_type": "markdown",
   "metadata": {},
   "source": [
    "## 从本地调回模型"
   ]
  },
  {
   "cell_type": "code",
   "execution_count": 2,
   "metadata": {
    "collapsed": true
   },
   "outputs": [],
   "source": [
    "from sklearn.externals import joblib\n",
    "clf = joblib.load(\"/Users/zhaoxuyan/Desktop/genki-4k-model/train_model.m\")"
   ]
  },
  {
   "cell_type": "markdown",
   "metadata": {},
   "source": [
    "## 准备预测"
   ]
  },
  {
   "cell_type": "code",
   "execution_count": 2,
   "metadata": {
    "collapsed": true
   },
   "outputs": [],
   "source": [
    "#提取目录下所有图片,更改尺寸后保存到另一目录  \n",
    "from PIL import Image  \n",
    "import os.path  \n",
    "import glob  \n",
    "def convertjpg(jpgfile,outdir,width=128,height=128):  \n",
    "    img=Image.open(jpgfile)  \n",
    "    try:  \n",
    "        new_img=img.resize((width,height),Image.BILINEAR)     \n",
    "        new_img.save(os.path.join(outdir,os.path.basename(jpgfile)))  \n",
    "    except Exception as e:  \n",
    "        print(e)  \n",
    "for jpgfile in glob.glob(\"/Users/zhaoxuyan/Desktop/pred/*.jpg\"):  \n",
    "    convertjpg(jpgfile,\"/Users/zhaoxuyan/Desktop/pred_resize\")  "
   ]
  },
  {
   "cell_type": "code",
   "execution_count": 6,
   "metadata": {},
   "outputs": [
    {
     "name": "stdout",
     "output_type": "stream",
     "text": [
      "/Users/zhaoxuyan/Desktop/pred_resize/no_smile.jpg\n",
      "/Users/zhaoxuyan/Desktop/pred_resize/smile.jpg\n"
     ]
    }
   ],
   "source": [
    "import cv2\n",
    "X=[]\n",
    "import os  \n",
    "path=\"/Users/zhaoxuyan/Desktop/pred_resize\"  #待读取的文件夹  \n",
    "files=os.listdir(path)  \n",
    "for file in files:  \n",
    "    print (os.path.join(path,file))\n",
    "    im = cv2.imread(os.path.join(path,file),0)\n",
    "    h = hog(im)\n",
    "    X.append(h)"
   ]
  },
  {
   "cell_type": "markdown",
   "metadata": {},
   "source": [
    "> 预测2张图片：no_smile和smile"
   ]
  },
  {
   "cell_type": "markdown",
   "metadata": {},
   "source": [
    "## 预处理新图片（自拍）"
   ]
  },
  {
   "cell_type": "code",
   "execution_count": 7,
   "metadata": {
    "collapsed": true
   },
   "outputs": [],
   "source": [
    "B=[]\n",
    "for i in range(0,len(X)):\n",
    "    A=X[i].reshape(1,-1)\n",
    "    B.append(A[0])"
   ]
  },
  {
   "cell_type": "code",
   "execution_count": 8,
   "metadata": {},
   "outputs": [
    {
     "data": {
      "text/plain": [
       "[array([0.3214328 , 0.3214328 , 0.09034893, ..., 0.22501577, 0.33847058,\n",
       "        0.33847058], dtype=float32),\n",
       " array([0.30610967, 0.23619246, 0.12861842, ..., 0.1217628 , 0.23348024,\n",
       "        0.2570294 ], dtype=float32)]"
      ]
     },
     "execution_count": 8,
     "metadata": {},
     "output_type": "execute_result"
    }
   ],
   "source": [
    "pred_data = B\n",
    "pred_data"
   ]
  },
  {
   "cell_type": "markdown",
   "metadata": {},
   "source": [
    "## 输出预测结果"
   ]
  },
  {
   "cell_type": "code",
   "execution_count": 9,
   "metadata": {},
   "outputs": [
    {
     "data": {
      "text/plain": [
       "array([0, 1])"
      ]
     },
     "execution_count": 9,
     "metadata": {},
     "output_type": "execute_result"
    }
   ],
   "source": [
    "clf.predict(pred_data)"
   ]
  },
  {
   "cell_type": "markdown",
   "metadata": {},
   "source": [
    "> 输出是0和1，即不笑和笑，结果正确"
   ]
  },
  {
   "cell_type": "markdown",
   "metadata": {},
   "source": [
    "## 摄像头实时预测"
   ]
  },
  {
   "cell_type": "code",
   "execution_count": null,
   "metadata": {
    "collapsed": true
   },
   "outputs": [],
   "source": [
    "from sklearn.externals import joblib\n",
    "\n",
    "\n",
    "def hog(image):\n",
    "    hog = cv2.HOGDescriptor()\n",
    "    h = hog.compute(image)\n",
    "    return h\n",
    "\n",
    "\n",
    "clf = joblib.load(\"/Users/zhaoxuyan/Desktop/genki-4k-model/train_model.m\")\n",
    "\n",
    "if __name__ == '__main__':\n",
    "    import dlib  # 人脸识别的库dlib\n",
    "    import numpy as np  # 数据处理的库numpy\n",
    "    import cv2  # 图像处理的库OpenCv\n",
    "    from PIL import Image\n",
    "\n",
    "    capture = cv2.VideoCapture(0)\n",
    "    size = (int(capture.get(cv2.CAP_PROP_FRAME_WIDTH)), int(capture.get(cv2.CAP_PROP_FRAME_HEIGHT)))\n",
    "    # Define the codec and create VideoWriter object\n",
    "    fourcc = cv2.VideoWriter_fourcc(*'DIVX')  # 'x264' doesn't work\n",
    "    out = cv2.VideoWriter('/Users/zhaoxuyan/Desktop/result.mp4', fourcc, 20, size, False)\n",
    "\n",
    "    # dlib预测器\n",
    "    detector = dlib.get_frontal_face_detector()\n",
    "\n",
    "    # 创建cv2摄像头对象\n",
    "    cap = cv2.VideoCapture(0)\n",
    "\n",
    "    # cap.set(propId, value)\n",
    "    # 设置视频参数，propId设置的视频参数，value设置的参数值\n",
    "    cap.set(3, 480)\n",
    "\n",
    "    # 截图screenshoot的计数器\n",
    "    cnt_ss = 0\n",
    "\n",
    "    # 人脸截图的计数器\n",
    "    cnt_p = 0\n",
    "\n",
    "    # 保存\n",
    "    path_save = \"F:/code/python/P_dlib_face_reco/data/get_from_camera/\"\n",
    "\n",
    "    # cap.isOpened（） 返回true/false 检查初始化是否成功\n",
    "    while cap.isOpened():\n",
    "        # cap.read()\n",
    "        # 返回两个值：\n",
    "        #    一个布尔值true/false，用来判断读取视频是否成功/是否到视频末尾\n",
    "        #    图像对象，图像的三维矩阵q\n",
    "        flag, im_rd = cap.read()\n",
    "        # 每帧数据延时1ms，延时为0读取的是静态帧\n",
    "        kk = cv2.waitKey(1)\n",
    "        # 取灰度\n",
    "        img_gray = cv2.cvtColor(im_rd, cv2.COLOR_RGB2GRAY)\n",
    "        # 人脸数rects\n",
    "        rects = detector(img_gray, 0)\n",
    "        # print(len(rects))\n",
    "        # 待会要写的字体\n",
    "        font = cv2.FONT_HERSHEY_SIMPLEX\n",
    "\n",
    "        if len(rects) != 0:\n",
    "            # 检测到人脸\n",
    "            # 矩形框\n",
    "            for k, d in enumerate(rects):\n",
    "\n",
    "                # 计算矩形大小\n",
    "                # (x,y), (宽度width, 高度height)\n",
    "                pos_start = tuple([d.left(), d.top()])\n",
    "                pos_end = tuple([d.right(), d.bottom()])\n",
    "\n",
    "                # 计算矩形框大小\n",
    "                height = d.bottom() - d.top()\n",
    "                width = d.right() - d.left()\n",
    "\n",
    "                # 根据人脸大小生成空的图像\n",
    "                cv2.rectangle(im_rd, tuple([d.left(), d.top()]), tuple([d.right(), d.bottom()]), (0, 255, 255), 2)\n",
    "                im_blank = np.zeros((height, width, 3), np.uint8)\n",
    "\n",
    "                for i in range(height):\n",
    "                    for j in range(width):\n",
    "                        im_blank[i][j] = im_rd[d.top() + i][d.left() + j]\n",
    "\n",
    "                # 存储人脸图像文件\n",
    "                cv2.imwrite(\"/Users/zhaoxuyan/Desktop/camera-resize/1.jpg\", im_blank)\n",
    "                img = Image.open(\"/Users/zhaoxuyan/Desktop/camera-resize/1.jpg\")\n",
    "                # resize\n",
    "                new_img = img.resize((128, 128), Image.BILINEAR)\n",
    "                new_img.save(\"/Users/zhaoxuyan/Desktop/camera-resize/1.jpg\")\n",
    "\n",
    "            # 开始调用clf进行实时预测\n",
    "            im = cv2.imread(\"/Users/zhaoxuyan/Desktop/camera-resize/1.jpg\", 0)\n",
    "            # hog特征提取\n",
    "            h = hog(im)\n",
    "            A = h.reshape(1, -1)\n",
    "            B = [A[0]]\n",
    "            pred_data = B\n",
    "            result = clf.predict(pred_data)\n",
    "            e = result.tolist()\n",
    "            print(e)\n",
    "\n",
    "            # im_rd = cv2.putText(im_rd, \"status:\" + str(e[0]), (20, 300), font, 1, (0, 0, 255), 1, cv2.LINE_AA)\n",
    "            im_rd = cv2.putText(im_rd, \"status:\" + str(e[0]), (20, 350), font, 10, (0, 0, 255), 4, cv2.LINE_AA)\n",
    "\n",
    "        else:\n",
    "            # 没有检测到人脸\n",
    "            print(\"未检测到人脸！\")\n",
    "\n",
    "        # 按下q键退出\n",
    "        if cv2.waitKey(1) & 0xFF == ord('q'):\n",
    "            break\n",
    "\n",
    "        out.write(im_rd)\n",
    "        # 窗口显示\n",
    "        # cv2.namedWindow(\"camera\", 0) # 如果需要摄像头窗口大小可调\n",
    "        cv2.imshow(\"camera\", im_rd)\n",
    "\n",
    "    # 释放摄像头\n",
    "    cap.release()\n",
    "\n",
    "    # 删除建立的窗口\n",
    "    cv2.destroyAllWindows()"
   ]
  },
  {
   "cell_type": "markdown",
   "metadata": {},
   "source": [
    "> - 摄像头实时视频见result.mp4\n",
    "- 由于训练集大多数图像都没戴眼镜，测试时戴眼镜准确率很低\n",
    "- 解决方法：取下眼镜后就OK啦~"
   ]
  }
 ],
 "metadata": {
  "kernelspec": {
   "display_name": "Python 3 bunnies",
   "language": "python",
   "name": "python3"
  },
  "language_info": {
   "codemirror_mode": {
    "name": "ipython",
    "version": 3
   },
   "file_extension": ".py",
   "mimetype": "text/x-python",
   "name": "python",
   "nbconvert_exporter": "python",
   "pygments_lexer": "ipython3",
   "version": "3.6.5"
  }
 },
 "nbformat": 4,
 "nbformat_minor": 2
}
