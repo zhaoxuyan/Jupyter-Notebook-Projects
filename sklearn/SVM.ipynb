{
 "cells": [
  {
   "cell_type": "markdown",
   "metadata": {},
   "source": [
    "# SVM"
   ]
  },
  {
   "cell_type": "markdown",
   "metadata": {},
   "source": [
    " 一、实验目的\n",
    "1. 通过对已有数据集的处理，掌握支持向量机分类算法\n",
    "2. 通过选用不同的核函数和调节超参。加深对算法的理解过程。\n",
    "实验类型：验证\n",
    "计划课间：4学时\n",
    "\n",
    "二、实验内容\n",
    "1. 利用python的sklearn库自带的函数对给定数据集完成分类任务。\n",
    "2. 选择不同的核函数（线性核，高斯核，多项式核）对同一个数据集进行分类\n",
    "3. 使用10折交叉验证算法防止过拟合；\n",
    "4. 用测试集验证得到的模型，并评价（要求评价方法多样性，不只精度）。\n",
    "\n",
    "三、实验步骤\n",
    "1. 数据集读入\n",
    "2. 数据预处理，根据需要进行标准化，归一化处理\n",
    "3. 将数据集划分为训练集与测试集（交叉验证）\n",
    "4. 利用训练数据构建模型\n",
    "5. 用测试数据评价模型的性能\n",
    "6. 结果分析（可视化）\n",
    "\n",
    "四、实验心得\n",
    "\n",
    "五、实验说明\n",
    "1. 实验数据可采用决策树相同的数据集，便于比较两种算法的效果。\n",
    "2. 实验内容为两个层次：\n",
    "第1个层次是调用sklearn库函数完成上述实验流程\n",
    "第2个层次是训练集与测试集采用交叉验证，模型评价多个指标\n",
    "3. 独立完成，并撰写实验报告\n"
   ]
  },
  {
   "cell_type": "code",
   "execution_count": 1,
   "metadata": {
    "collapsed": true
   },
   "outputs": [],
   "source": [
    "import numpy as np\n",
    "import matplotlib.pyplot as plt\n",
    "from sklearn import svm, datasets\n",
    "\n",
    "\n",
    "def make_meshgrid(x, y, h=.02):\n",
    "    \"\"\"Create a mesh of points to plot in\n",
    "\n",
    "    Parameters\n",
    "    ----------\n",
    "    x: data to base x-axis meshgrid on\n",
    "    y: data to base y-axis meshgrid on\n",
    "    h: stepsize for meshgrid, optional\n",
    "\n",
    "    Returns\n",
    "    -------\n",
    "    xx, yy : ndarray\n",
    "    \"\"\"\n",
    "    x_min, x_max = x.min() - 1, x.max() + 1\n",
    "    y_min, y_max = y.min() - 1, y.max() + 1\n",
    "    xx, yy = np.meshgrid(np.arange(x_min, x_max, h),\n",
    "                         np.arange(y_min, y_max, h))\n",
    "    return xx, yy\n",
    "\n",
    "\n",
    "def plot_contours(ax, clf, xx, yy, **params):\n",
    "    \"\"\"Plot the decision boundaries for a classifier.\n",
    "\n",
    "    Parameters\n",
    "    ----------\n",
    "    ax: matplotlib axes object\n",
    "    clf: a classifier\n",
    "    xx: meshgrid ndarray\n",
    "    yy: meshgrid ndarray\n",
    "    params: dictionary of params to pass to contourf, optional\n",
    "    \"\"\"\n",
    "    Z = clf.predict(np.c_[xx.ravel(), yy.ravel()])\n",
    "    Z = Z.reshape(xx.shape)\n",
    "    out = ax.contourf(xx, yy, Z, **params)\n",
    "    return out"
   ]
  },
  {
   "cell_type": "markdown",
   "metadata": {},
   "source": [
    "## 导入数据"
   ]
  },
  {
   "cell_type": "code",
   "execution_count": 2,
   "metadata": {
    "collapsed": true
   },
   "outputs": [],
   "source": [
    "# import some data to play with\n",
    "iris = datasets.load_iris()\n",
    "# Take the first two features. We could avoid this by using a two-dim dataset\n",
    "X = iris.data[:, :2] # 取前2列 因为要画图(2维)\n",
    "y = iris.target"
   ]
  },
  {
   "cell_type": "markdown",
   "metadata": {},
   "source": [
    "## 拆分为训练集&测试集"
   ]
  },
  {
   "cell_type": "code",
   "execution_count": 3,
   "metadata": {},
   "outputs": [
    {
     "name": "stderr",
     "output_type": "stream",
     "text": [
      "/Users/zhaoxuyan/anaconda/lib/python2.7/site-packages/sklearn/cross_validation.py:41: DeprecationWarning: This module was deprecated in version 0.18 in favor of the model_selection module into which all the refactored classes and functions are moved. Also note that the interface of the new CV iterators are different from that of this module. This module will be removed in 0.20.\n",
      "  \"This module will be removed in 0.20.\", DeprecationWarning)\n"
     ]
    }
   ],
   "source": [
    "from sklearn.cross_validation import train_test_split\n",
    "X_train, X_test, y_train, y_test = train_test_split(\n",
    "    X, y, test_size=0.4, random_state=0)"
   ]
  },
  {
   "cell_type": "markdown",
   "metadata": {},
   "source": [
    "## 模型训练"
   ]
  },
  {
   "cell_type": "code",
   "execution_count": 44,
   "metadata": {
    "collapsed": true
   },
   "outputs": [],
   "source": [
    "# we create an instance of SVM and fit out data. We do not scale our\n",
    "# data since we want to plot the support vectors\n",
    "C = 1.0  # SVM regularization parameter\n",
    "models = (svm.SVC(kernel='linear', C=C),\n",
    "          svm.LinearSVC(C=C),\n",
    "          svm.SVC(kernel='rbf', gamma=0.7, C=C),\n",
    "          svm.SVC(kernel='poly', degree=3, C=C))\n",
    "models = (clf.fit(X_train, y_train) for clf in models)"
   ]
  },
  {
   "cell_type": "markdown",
   "metadata": {},
   "source": [
    "## 训练准确率"
   ]
  },
  {
   "cell_type": "code",
   "execution_count": 29,
   "metadata": {},
   "outputs": [
    {
     "data": {
      "text/plain": [
       "[('SVC with linear kernel', 0.83333333333333337),\n",
       " ('LinearSVC (linear kernel)', 0.85555555555555551),\n",
       " ('SVC with RBF kernel', 0.83333333333333337),\n",
       " ('SVC with polynomial (degree 3) kernel', 0.85555555555555551)]"
      ]
     },
     "execution_count": 29,
     "metadata": {},
     "output_type": "execute_result"
    }
   ],
   "source": [
    "titles = ['SVC with linear kernel',\n",
    "          'LinearSVC (linear kernel)',\n",
    "          'SVC with RBF kernel',\n",
    "          'SVC with polynomial (degree 3) kernel']\n",
    "scores = []\n",
    "for clf in models:\n",
    "    scores.append(clf.score(X_train, y_train))\n",
    "show_score = zip(titles,scores)\n",
    "show_score"
   ]
  },
  {
   "cell_type": "markdown",
   "metadata": {},
   "source": [
    "## 交叉验证(10 Fold)(训练准确率取均值)"
   ]
  },
  {
   "cell_type": "markdown",
   "metadata": {},
   "source": [
    "- Accuracy of SVC with linear kernel"
   ]
  },
  {
   "cell_type": "code",
   "execution_count": 11,
   "metadata": {},
   "outputs": [
    {
     "name": "stdout",
     "output_type": "stream",
     "text": [
      "0.822936507937\n"
     ]
    }
   ],
   "source": [
    "from sklearn.cross_validation import cross_val_score \n",
    "scores = cross_val_score(svm.SVC(kernel='linear', C=1.0), X_train, y_train, cv = 10, scoring = 'accuracy')\n",
    "print scores.mean()"
   ]
  },
  {
   "cell_type": "markdown",
   "metadata": {},
   "source": [
    "- Accuracy of LinearSVC (linear kernel)"
   ]
  },
  {
   "cell_type": "code",
   "execution_count": 12,
   "metadata": {},
   "outputs": [
    {
     "name": "stdout",
     "output_type": "stream",
     "text": [
      "0.856944444444\n"
     ]
    }
   ],
   "source": [
    "scores = cross_val_score(svm.LinearSVC(C=C), X_train, y_train, cv = 10, scoring = 'accuracy')\n",
    "print scores.mean()"
   ]
  },
  {
   "cell_type": "markdown",
   "metadata": {},
   "source": [
    "- Accuracy of SVC with RBF kernel"
   ]
  },
  {
   "cell_type": "code",
   "execution_count": 13,
   "metadata": {},
   "outputs": [
    {
     "name": "stdout",
     "output_type": "stream",
     "text": [
      "0.837222222222\n"
     ]
    }
   ],
   "source": [
    "scores = cross_val_score(svm.SVC(kernel='rbf', gamma=0.7, C=C), X_train, y_train, cv = 10, scoring = 'accuracy')\n",
    "print scores.mean()"
   ]
  },
  {
   "cell_type": "markdown",
   "metadata": {},
   "source": [
    "- Accuracy of SVC with polynomial (degree 3) kernel"
   ]
  },
  {
   "cell_type": "code",
   "execution_count": 14,
   "metadata": {},
   "outputs": [
    {
     "name": "stdout",
     "output_type": "stream",
     "text": [
      "0.802222222222\n"
     ]
    }
   ],
   "source": [
    "scores = cross_val_score(svm.SVC(kernel='poly', degree=3, C=C), X_train, y_train, cv = 10, scoring = 'accuracy')\n",
    "print scores.mean()"
   ]
  },
  {
   "cell_type": "markdown",
   "metadata": {},
   "source": [
    "## 模型预测"
   ]
  },
  {
   "cell_type": "code",
   "execution_count": 45,
   "metadata": {},
   "outputs": [
    {
     "data": {
      "text/plain": [
       "[array([1, 1, 0, 2, 0, 2, 0, 2, 2, 1, 1, 2, 1, 2, 1, 0, 1, 1, 0, 0, 1, 1, 0,\n",
       "        0, 1, 0, 0, 1, 1, 0, 2, 1, 0, 1, 1, 1, 0, 1, 1, 1, 2, 0, 2, 0, 0, 1,\n",
       "        2, 2, 1, 1, 1, 2, 2, 1, 1, 1, 1, 1, 2, 2]),\n",
       " array([1, 1, 0, 2, 0, 2, 0, 2, 2, 1, 1, 2, 1, 2, 2, 0, 2, 1, 0, 0, 1, 1, 0,\n",
       "        0, 2, 0, 0, 2, 1, 0, 2, 0, 0, 2, 2, 1, 0, 1, 2, 1, 2, 0, 2, 0, 0, 1,\n",
       "        2, 2, 1, 2, 1, 2, 2, 1, 2, 2, 1, 1, 2, 2]),\n",
       " array([1, 1, 0, 2, 0, 2, 0, 2, 2, 1, 1, 2, 1, 2, 1, 0, 1, 1, 0, 0, 1, 1, 0,\n",
       "        0, 1, 0, 0, 1, 1, 0, 2, 1, 0, 1, 1, 1, 0, 1, 1, 1, 2, 0, 2, 0, 0, 1,\n",
       "        2, 2, 1, 1, 1, 2, 2, 1, 1, 1, 1, 1, 2, 2]),\n",
       " array([1, 1, 0, 2, 0, 2, 0, 2, 2, 1, 1, 2, 1, 2, 1, 0, 1, 1, 0, 0, 1, 1, 0,\n",
       "        0, 1, 0, 0, 1, 1, 0, 2, 1, 0, 1, 2, 1, 0, 1, 1, 1, 2, 0, 2, 0, 0, 1,\n",
       "        2, 2, 1, 1, 1, 2, 2, 1, 1, 1, 1, 1, 2, 2])]"
      ]
     },
     "execution_count": 45,
     "metadata": {},
     "output_type": "execute_result"
    }
   ],
   "source": [
    "predicts = []\n",
    "for clf in models:\n",
    "    predicts.append(clf.predict(X_test))\n",
    "predicts"
   ]
  },
  {
   "cell_type": "markdown",
   "metadata": {},
   "source": [
    "## 模型评价"
   ]
  },
  {
   "cell_type": "code",
   "execution_count": 46,
   "metadata": {},
   "outputs": [
    {
     "data": {
      "text/plain": [
       "[('SVC with linear kernel', 0.50797266514806372),\n",
       " ('LinearSVC (linear kernel)', 0.48063781321184507),\n",
       " ('SVC with RBF kernel', 0.50797266514806372),\n",
       " ('SVC with polynomial (degree 3) kernel', 0.53530751708428248)]"
      ]
     },
     "execution_count": 46,
     "metadata": {},
     "output_type": "execute_result"
    }
   ],
   "source": [
    "titles = ['SVC with linear kernel',\n",
    "          'LinearSVC (linear kernel)',\n",
    "          'SVC with RBF kernel',\n",
    "          'SVC with polynomial (degree 3) kernel']\n",
    "from sklearn.metrics import accuracy_score\n",
    "accuracy_scores=[accuracy_score(y_test,predicts[0]),accuracy_score(y_test,predicts[1]),\n",
    "          accuracy_score(y_test,predicts[2]),accuracy_score(y_test,predicts[3])]\n",
    "show_accuracy = zip(titles,r2_scores)\n",
    "show_accuracy"
   ]
  },
  {
   "cell_type": "markdown",
   "metadata": {},
   "source": [
    "## 可视化"
   ]
  },
  {
   "cell_type": "code",
   "execution_count": 41,
   "metadata": {},
   "outputs": [
    {
     "data": {
      "image/png": "[encoded data removed]",
      "text/plain": [
       "<Figure size 432x288 with 4 Axes>"
      ]
     },
     "metadata": {},
     "output_type": "display_data"
    }
   ],
   "source": [
    "# title for the plots\n",
    "titles = ('SVC with linear kernel',\n",
    "          'LinearSVC (linear kernel)',\n",
    "          'SVC with RBF kernel',\n",
    "          'SVC with polynomial (degree 3) kernel')\n",
    "\n",
    "# Set-up 2x2 grid for plotting.\n",
    "fig, sub = plt.subplots(2, 2)\n",
    "plt.subplots_adjust(wspace=0.4, hspace=0.4)\n",
    "\n",
    "X0, X1 = X_train[:, 0], X_train[:, 1]\n",
    "xx, yy = make_meshgrid(X0, X1)\n",
    "\n",
    "for clf, title, ax in zip(models, titles, sub.flatten()):\n",
    "    plot_contours(ax, clf, xx, yy,\n",
    "                  cmap=plt.cm.coolwarm, alpha=0.8)\n",
    "    ax.scatter(X0, X1, c=y_train, cmap=plt.cm.coolwarm, s=20, edgecolors='k')\n",
    "    ax.set_xlim(xx.min(), xx.max())\n",
    "    ax.set_ylim(yy.min(), yy.max())\n",
    "    ax.set_xlabel('Sepal length')\n",
    "    ax.set_ylabel('Sepal width')\n",
    "    ax.set_xticks(())\n",
    "    ax.set_yticks(())\n",
    "    ax.set_title(title)\n",
    "\n",
    "plt.show()"
   ]
  },
  {
   "cell_type": "markdown",
   "metadata": {},
   "source": [
    "## 实验心得"
   ]
  },
  {
   "cell_type": "markdown",
   "metadata": {},
   "source": [
    "模型的训练准确率达到80%+，而测试准确率只有50%。很郁闷。调整C无果，希望能与王老师讨论如何调参提高测试准确率。"
   ]
  }
 ],
 "metadata": {
  "kernelspec": {
   "display_name": "Python 2",
   "language": "python",
   "name": "python2"
  },
  "language_info": {
   "codemirror_mode": {
    "name": "ipython",
    "version": 2
   },
   "file_extension": ".py",
   "mimetype": "text/x-python",
   "name": "python",
   "nbconvert_exporter": "python",
   "pygments_lexer": "ipython2",
   "version": "2.7.11"
  }
 },
 "nbformat": 4,
 "nbformat_minor": 2
}
