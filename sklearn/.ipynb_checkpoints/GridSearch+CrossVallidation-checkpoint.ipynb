{
 "cells": [
  {
   "cell_type": "markdown",
   "metadata": {},
   "source": [
    "# 网格搜索 + K折交叉验证"
   ]
  },
  {
   "cell_type": "code",
   "execution_count": 1,
   "metadata": {
    "collapsed": true
   },
   "outputs": [],
   "source": [
    "from sklearn.model_selection import GridSearchCV, KFold, train_test_split\n",
    "from sklearn.metrics import make_scorer, accuracy_score\n",
    "from sklearn.tree import DecisionTreeClassifier\n",
    "from sklearn.datasets import load_breast_cancer"
   ]
  },
  {
   "cell_type": "markdown",
   "metadata": {},
   "source": [
    "## 导入乳腺癌数据"
   ]
  },
  {
   "cell_type": "code",
   "execution_count": 2,
   "metadata": {
    "collapsed": true
   },
   "outputs": [],
   "source": [
    "data = load_breast_cancer()"
   ]
  },
  {
   "cell_type": "markdown",
   "metadata": {},
   "source": [
    "## 切割训练集和验证集"
   ]
  },
  {
   "cell_type": "code",
   "execution_count": 3,
   "metadata": {},
   "outputs": [
    {
     "name": "stderr",
     "output_type": "stream",
     "text": [
      "/Users/zhaoxuyan/anaconda/lib/python2.7/site-packages/sklearn/model_selection/_split.py:2026: FutureWarning: From version 0.21, test_size will always complement train_size unless both are specified.\n",
      "  FutureWarning)\n"
     ]
    }
   ],
   "source": [
    "X_train, X_test, y_train, y_test = train_test_split(\n",
    "    data['data'], data['target'], train_size=0.8, random_state=0)"
   ]
  },
  {
   "cell_type": "code",
   "execution_count": 4,
   "metadata": {
    "collapsed": true
   },
   "outputs": [],
   "source": [
    "regressor = DecisionTreeClassifier(random_state=0)"
   ]
  },
  {
   "cell_type": "markdown",
   "metadata": {},
   "source": [
    "## GridSearch的参数"
   ]
  },
  {
   "cell_type": "code",
   "execution_count": 5,
   "metadata": {
    "collapsed": true
   },
   "outputs": [],
   "source": [
    "parameters = {'max_depth': range(1, 7)}"
   ]
  },
  {
   "cell_type": "markdown",
   "metadata": {},
   "source": [
    "## 评分依据:准确率"
   ]
  },
  {
   "cell_type": "code",
   "execution_count": 6,
   "metadata": {
    "collapsed": true
   },
   "outputs": [],
   "source": [
    "scoring_fnc = make_scorer(accuracy_score)"
   ]
  },
  {
   "cell_type": "markdown",
   "metadata": {},
   "source": [
    "## k折交叉验证：10折"
   ]
  },
  {
   "cell_type": "code",
   "execution_count": 7,
   "metadata": {
    "collapsed": true
   },
   "outputs": [],
   "source": [
    "kfold = KFold(n_splits=10)"
   ]
  },
  {
   "cell_type": "markdown",
   "metadata": {},
   "source": [
    "## 进行GridSearch"
   ]
  },
  {
   "cell_type": "code",
   "execution_count": 8,
   "metadata": {
    "collapsed": true
   },
   "outputs": [],
   "source": [
    "grid = GridSearchCV(regressor, parameters, scoring_fnc, cv=kfold)\n",
    "grid = grid.fit(X_train, y_train)"
   ]
  },
  {
   "cell_type": "markdown",
   "metadata": {},
   "source": [
    "## 使用GridSearch寻找最优参数组合"
   ]
  },
  {
   "cell_type": "code",
   "execution_count": 9,
   "metadata": {},
   "outputs": [
    {
     "name": "stdout",
     "output_type": "stream",
     "text": [
      "best score: 0.938462\n",
      "best parameters:\n",
      "max_depth: 4\n"
     ]
    }
   ],
   "source": [
    "reg = grid.best_estimator_\n",
    "print('best score: %f'%grid.best_score_)\n",
    "print('best parameters:')\n",
    "for key in parameters.keys():\n",
    "    print('%s: %d'%(key, reg.get_params()[key]))"
   ]
  },
  {
   "cell_type": "markdown",
   "metadata": {},
   "source": [
    "## 模型验证"
   ]
  },
  {
   "cell_type": "code",
   "execution_count": 10,
   "metadata": {},
   "outputs": [
    {
     "name": "stdout",
     "output_type": "stream",
     "text": [
      "test score: 0.956140\n"
     ]
    }
   ],
   "source": [
    "print('test score: %f'%reg.score(X_test, y_test))"
   ]
  },
  {
   "cell_type": "markdown",
   "metadata": {},
   "source": [
    "## 输出GridSearch中间过程"
   ]
  },
  {
   "cell_type": "code",
   "execution_count": 11,
   "metadata": {},
   "outputs": [
    {
     "name": "stderr",
     "output_type": "stream",
     "text": [
      "/Users/zhaoxuyan/anaconda/lib/python2.7/site-packages/sklearn/utils/deprecation.py:122: FutureWarning: You are accessing a training score ('mean_train_score'), which will not be available by default any more in 0.21. If you need training scores, please set return_train_score=True\n",
      "  warnings.warn(*warn_args, **warn_kwargs)\n",
      "/Users/zhaoxuyan/anaconda/lib/python2.7/site-packages/sklearn/utils/deprecation.py:122: FutureWarning: You are accessing a training score ('split0_train_score'), which will not be available by default any more in 0.21. If you need training scores, please set return_train_score=True\n",
      "  warnings.warn(*warn_args, **warn_kwargs)\n",
      "/Users/zhaoxuyan/anaconda/lib/python2.7/site-packages/sklearn/utils/deprecation.py:122: FutureWarning: You are accessing a training score ('split1_train_score'), which will not be available by default any more in 0.21. If you need training scores, please set return_train_score=True\n",
      "  warnings.warn(*warn_args, **warn_kwargs)\n",
      "/Users/zhaoxuyan/anaconda/lib/python2.7/site-packages/sklearn/utils/deprecation.py:122: FutureWarning: You are accessing a training score ('split2_train_score'), which will not be available by default any more in 0.21. If you need training scores, please set return_train_score=True\n",
      "  warnings.warn(*warn_args, **warn_kwargs)\n",
      "/Users/zhaoxuyan/anaconda/lib/python2.7/site-packages/sklearn/utils/deprecation.py:122: FutureWarning: You are accessing a training score ('split3_train_score'), which will not be available by default any more in 0.21. If you need training scores, please set return_train_score=True\n",
      "  warnings.warn(*warn_args, **warn_kwargs)\n",
      "/Users/zhaoxuyan/anaconda/lib/python2.7/site-packages/sklearn/utils/deprecation.py:122: FutureWarning: You are accessing a training score ('split4_train_score'), which will not be available by default any more in 0.21. If you need training scores, please set return_train_score=True\n",
      "  warnings.warn(*warn_args, **warn_kwargs)\n",
      "/Users/zhaoxuyan/anaconda/lib/python2.7/site-packages/sklearn/utils/deprecation.py:122: FutureWarning: You are accessing a training score ('split5_train_score'), which will not be available by default any more in 0.21. If you need training scores, please set return_train_score=True\n",
      "  warnings.warn(*warn_args, **warn_kwargs)\n",
      "/Users/zhaoxuyan/anaconda/lib/python2.7/site-packages/sklearn/utils/deprecation.py:122: FutureWarning: You are accessing a training score ('split6_train_score'), which will not be available by default any more in 0.21. If you need training scores, please set return_train_score=True\n",
      "  warnings.warn(*warn_args, **warn_kwargs)\n",
      "/Users/zhaoxuyan/anaconda/lib/python2.7/site-packages/sklearn/utils/deprecation.py:122: FutureWarning: You are accessing a training score ('split7_train_score'), which will not be available by default any more in 0.21. If you need training scores, please set return_train_score=True\n",
      "  warnings.warn(*warn_args, **warn_kwargs)\n",
      "/Users/zhaoxuyan/anaconda/lib/python2.7/site-packages/sklearn/utils/deprecation.py:122: FutureWarning: You are accessing a training score ('split8_train_score'), which will not be available by default any more in 0.21. If you need training scores, please set return_train_score=True\n",
      "  warnings.warn(*warn_args, **warn_kwargs)\n",
      "/Users/zhaoxuyan/anaconda/lib/python2.7/site-packages/sklearn/utils/deprecation.py:122: FutureWarning: You are accessing a training score ('split9_train_score'), which will not be available by default any more in 0.21. If you need training scores, please set return_train_score=True\n",
      "  warnings.warn(*warn_args, **warn_kwargs)\n",
      "/Users/zhaoxuyan/anaconda/lib/python2.7/site-packages/sklearn/utils/deprecation.py:122: FutureWarning: You are accessing a training score ('std_train_score'), which will not be available by default any more in 0.21. If you need training scores, please set return_train_score=True\n",
      "  warnings.warn(*warn_args, **warn_kwargs)\n"
     ]
    },
    {
     "data": {
      "text/html": [
       "<div>\n",
       "<style scoped>\n",
       "    .dataframe tbody tr th:only-of-type {\n",
       "        vertical-align: middle;\n",
       "    }\n",
       "\n",
       "    .dataframe tbody tr th {\n",
       "        vertical-align: top;\n",
       "    }\n",
       "\n",
       "    .dataframe thead th {\n",
       "        text-align: right;\n",
       "    }\n",
       "</style>\n",
       "<table border=\"1\" class=\"dataframe\">\n",
       "  <thead>\n",
       "    <tr style=\"text-align: right;\">\n",
       "      <th></th>\n",
       "      <th>0</th>\n",
       "      <th>1</th>\n",
       "      <th>2</th>\n",
       "      <th>3</th>\n",
       "      <th>4</th>\n",
       "      <th>5</th>\n",
       "    </tr>\n",
       "  </thead>\n",
       "  <tbody>\n",
       "    <tr>\n",
       "      <th>mean_fit_time</th>\n",
       "      <td>0.00253072</td>\n",
       "      <td>0.00239308</td>\n",
       "      <td>0.00318389</td>\n",
       "      <td>0.0039603</td>\n",
       "      <td>0.0048275</td>\n",
       "      <td>0.00530453</td>\n",
       "    </tr>\n",
       "    <tr>\n",
       "      <th>mean_score_time</th>\n",
       "      <td>0.000342155</td>\n",
       "      <td>0.000220895</td>\n",
       "      <td>0.000206566</td>\n",
       "      <td>0.000282168</td>\n",
       "      <td>0.0002321</td>\n",
       "      <td>0.000216699</td>\n",
       "    </tr>\n",
       "    <tr>\n",
       "      <th>mean_test_score</th>\n",
       "      <td>0.901099</td>\n",
       "      <td>0.934066</td>\n",
       "      <td>0.936264</td>\n",
       "      <td>0.938462</td>\n",
       "      <td>0.934066</td>\n",
       "      <td>0.934066</td>\n",
       "    </tr>\n",
       "    <tr>\n",
       "      <th>mean_train_score</th>\n",
       "      <td>0.923811</td>\n",
       "      <td>0.952871</td>\n",
       "      <td>0.969717</td>\n",
       "      <td>0.984126</td>\n",
       "      <td>0.990721</td>\n",
       "      <td>0.995362</td>\n",
       "    </tr>\n",
       "    <tr>\n",
       "      <th>param_max_depth</th>\n",
       "      <td>1</td>\n",
       "      <td>2</td>\n",
       "      <td>3</td>\n",
       "      <td>4</td>\n",
       "      <td>5</td>\n",
       "      <td>6</td>\n",
       "    </tr>\n",
       "    <tr>\n",
       "      <th>params</th>\n",
       "      <td>{u'max_depth': 1}</td>\n",
       "      <td>{u'max_depth': 2}</td>\n",
       "      <td>{u'max_depth': 3}</td>\n",
       "      <td>{u'max_depth': 4}</td>\n",
       "      <td>{u'max_depth': 5}</td>\n",
       "      <td>{u'max_depth': 6}</td>\n",
       "    </tr>\n",
       "    <tr>\n",
       "      <th>rank_test_score</th>\n",
       "      <td>6</td>\n",
       "      <td>3</td>\n",
       "      <td>2</td>\n",
       "      <td>1</td>\n",
       "      <td>3</td>\n",
       "      <td>3</td>\n",
       "    </tr>\n",
       "    <tr>\n",
       "      <th>split0_test_score</th>\n",
       "      <td>0.869565</td>\n",
       "      <td>0.934783</td>\n",
       "      <td>0.934783</td>\n",
       "      <td>0.934783</td>\n",
       "      <td>0.913043</td>\n",
       "      <td>0.913043</td>\n",
       "    </tr>\n",
       "    <tr>\n",
       "      <th>split0_train_score</th>\n",
       "      <td>0.929095</td>\n",
       "      <td>0.95599</td>\n",
       "      <td>0.97066</td>\n",
       "      <td>0.98044</td>\n",
       "      <td>0.99022</td>\n",
       "      <td>0.997555</td>\n",
       "    </tr>\n",
       "    <tr>\n",
       "      <th>split1_test_score</th>\n",
       "      <td>0.913043</td>\n",
       "      <td>0.934783</td>\n",
       "      <td>0.913043</td>\n",
       "      <td>0.913043</td>\n",
       "      <td>0.913043</td>\n",
       "      <td>0.891304</td>\n",
       "    </tr>\n",
       "    <tr>\n",
       "      <th>split1_train_score</th>\n",
       "      <td>0.924205</td>\n",
       "      <td>0.958435</td>\n",
       "      <td>0.968215</td>\n",
       "      <td>0.982885</td>\n",
       "      <td>0.99022</td>\n",
       "      <td>0.99511</td>\n",
       "    </tr>\n",
       "    <tr>\n",
       "      <th>split2_test_score</th>\n",
       "      <td>0.934783</td>\n",
       "      <td>0.956522</td>\n",
       "      <td>0.978261</td>\n",
       "      <td>1</td>\n",
       "      <td>0.978261</td>\n",
       "      <td>0.978261</td>\n",
       "    </tr>\n",
       "    <tr>\n",
       "      <th>split2_train_score</th>\n",
       "      <td>0.92176</td>\n",
       "      <td>0.9511</td>\n",
       "      <td>0.968215</td>\n",
       "      <td>0.982885</td>\n",
       "      <td>0.987775</td>\n",
       "      <td>0.992665</td>\n",
       "    </tr>\n",
       "    <tr>\n",
       "      <th>split3_test_score</th>\n",
       "      <td>0.934783</td>\n",
       "      <td>0.934783</td>\n",
       "      <td>0.934783</td>\n",
       "      <td>0.934783</td>\n",
       "      <td>0.934783</td>\n",
       "      <td>0.913043</td>\n",
       "    </tr>\n",
       "    <tr>\n",
       "      <th>split3_train_score</th>\n",
       "      <td>0.92176</td>\n",
       "      <td>0.958435</td>\n",
       "      <td>0.963325</td>\n",
       "      <td>0.982885</td>\n",
       "      <td>0.992665</td>\n",
       "      <td>1</td>\n",
       "    </tr>\n",
       "    <tr>\n",
       "      <th>split4_test_score</th>\n",
       "      <td>0.826087</td>\n",
       "      <td>0.869565</td>\n",
       "      <td>0.869565</td>\n",
       "      <td>0.891304</td>\n",
       "      <td>0.869565</td>\n",
       "      <td>0.891304</td>\n",
       "    </tr>\n",
       "    <tr>\n",
       "      <th>split4_train_score</th>\n",
       "      <td>0.92665</td>\n",
       "      <td>0.94621</td>\n",
       "      <td>0.97066</td>\n",
       "      <td>0.987775</td>\n",
       "      <td>0.99511</td>\n",
       "      <td>0.997555</td>\n",
       "    </tr>\n",
       "    <tr>\n",
       "      <th>split5_test_score</th>\n",
       "      <td>0.911111</td>\n",
       "      <td>0.955556</td>\n",
       "      <td>0.955556</td>\n",
       "      <td>0.955556</td>\n",
       "      <td>0.955556</td>\n",
       "      <td>0.977778</td>\n",
       "    </tr>\n",
       "    <tr>\n",
       "      <th>split5_train_score</th>\n",
       "      <td>0.92439</td>\n",
       "      <td>0.95122</td>\n",
       "      <td>0.973171</td>\n",
       "      <td>0.987805</td>\n",
       "      <td>0.990244</td>\n",
       "      <td>0.995122</td>\n",
       "    </tr>\n",
       "    <tr>\n",
       "      <th>split6_test_score</th>\n",
       "      <td>0.955556</td>\n",
       "      <td>0.955556</td>\n",
       "      <td>0.977778</td>\n",
       "      <td>0.977778</td>\n",
       "      <td>0.977778</td>\n",
       "      <td>0.977778</td>\n",
       "    </tr>\n",
       "    <tr>\n",
       "      <th>split6_train_score</th>\n",
       "      <td>0.917073</td>\n",
       "      <td>0.953659</td>\n",
       "      <td>0.965854</td>\n",
       "      <td>0.978049</td>\n",
       "      <td>0.987805</td>\n",
       "      <td>0.992683</td>\n",
       "    </tr>\n",
       "    <tr>\n",
       "      <th>split7_test_score</th>\n",
       "      <td>0.888889</td>\n",
       "      <td>0.888889</td>\n",
       "      <td>0.911111</td>\n",
       "      <td>0.911111</td>\n",
       "      <td>0.911111</td>\n",
       "      <td>0.911111</td>\n",
       "    </tr>\n",
       "    <tr>\n",
       "      <th>split7_train_score</th>\n",
       "      <td>0.921951</td>\n",
       "      <td>0.946341</td>\n",
       "      <td>0.978049</td>\n",
       "      <td>0.990244</td>\n",
       "      <td>0.995122</td>\n",
       "      <td>0.997561</td>\n",
       "    </tr>\n",
       "    <tr>\n",
       "      <th>split8_test_score</th>\n",
       "      <td>0.911111</td>\n",
       "      <td>0.977778</td>\n",
       "      <td>0.955556</td>\n",
       "      <td>0.955556</td>\n",
       "      <td>0.977778</td>\n",
       "      <td>0.977778</td>\n",
       "    </tr>\n",
       "    <tr>\n",
       "      <th>split8_train_score</th>\n",
       "      <td>0.92439</td>\n",
       "      <td>0.94878</td>\n",
       "      <td>0.970732</td>\n",
       "      <td>0.985366</td>\n",
       "      <td>0.990244</td>\n",
       "      <td>0.992683</td>\n",
       "    </tr>\n",
       "    <tr>\n",
       "      <th>split9_test_score</th>\n",
       "      <td>0.866667</td>\n",
       "      <td>0.933333</td>\n",
       "      <td>0.933333</td>\n",
       "      <td>0.911111</td>\n",
       "      <td>0.911111</td>\n",
       "      <td>0.911111</td>\n",
       "    </tr>\n",
       "    <tr>\n",
       "      <th>split9_train_score</th>\n",
       "      <td>0.926829</td>\n",
       "      <td>0.958537</td>\n",
       "      <td>0.968293</td>\n",
       "      <td>0.982927</td>\n",
       "      <td>0.987805</td>\n",
       "      <td>0.992683</td>\n",
       "    </tr>\n",
       "    <tr>\n",
       "      <th>std_fit_time</th>\n",
       "      <td>0.00197394</td>\n",
       "      <td>0.000359529</td>\n",
       "      <td>0.000220702</td>\n",
       "      <td>0.000639129</td>\n",
       "      <td>0.000532141</td>\n",
       "      <td>0.000883177</td>\n",
       "    </tr>\n",
       "    <tr>\n",
       "      <th>std_score_time</th>\n",
       "      <td>0.000210896</td>\n",
       "      <td>8.2679e-05</td>\n",
       "      <td>3.02465e-05</td>\n",
       "      <td>0.000251122</td>\n",
       "      <td>7.20807e-05</td>\n",
       "      <td>4.19456e-05</td>\n",
       "    </tr>\n",
       "    <tr>\n",
       "      <th>std_test_score</th>\n",
       "      <td>0.0368558</td>\n",
       "      <td>0.0308864</td>\n",
       "      <td>0.0314724</td>\n",
       "      <td>0.0321618</td>\n",
       "      <td>0.0351472</td>\n",
       "      <td>0.0364376</td>\n",
       "    </tr>\n",
       "    <tr>\n",
       "      <th>std_train_score</th>\n",
       "      <td>0.00321232</td>\n",
       "      <td>0.00462563</td>\n",
       "      <td>0.00382722</td>\n",
       "      <td>0.00349845</td>\n",
       "      <td>0.00262782</td>\n",
       "      <td>0.00254739</td>\n",
       "    </tr>\n",
       "  </tbody>\n",
       "</table>\n",
       "</div>"
      ],
      "text/plain": [
       "                                    0                  1                  2  \\\n",
       "mean_fit_time              0.00253072         0.00239308         0.00318389   \n",
       "mean_score_time           0.000342155        0.000220895        0.000206566   \n",
       "mean_test_score              0.901099           0.934066           0.936264   \n",
       "mean_train_score             0.923811           0.952871           0.969717   \n",
       "param_max_depth                     1                  2                  3   \n",
       "params              {u'max_depth': 1}  {u'max_depth': 2}  {u'max_depth': 3}   \n",
       "rank_test_score                     6                  3                  2   \n",
       "split0_test_score            0.869565           0.934783           0.934783   \n",
       "split0_train_score           0.929095            0.95599            0.97066   \n",
       "split1_test_score            0.913043           0.934783           0.913043   \n",
       "split1_train_score           0.924205           0.958435           0.968215   \n",
       "split2_test_score            0.934783           0.956522           0.978261   \n",
       "split2_train_score            0.92176             0.9511           0.968215   \n",
       "split3_test_score            0.934783           0.934783           0.934783   \n",
       "split3_train_score            0.92176           0.958435           0.963325   \n",
       "split4_test_score            0.826087           0.869565           0.869565   \n",
       "split4_train_score            0.92665            0.94621            0.97066   \n",
       "split5_test_score            0.911111           0.955556           0.955556   \n",
       "split5_train_score            0.92439            0.95122           0.973171   \n",
       "split6_test_score            0.955556           0.955556           0.977778   \n",
       "split6_train_score           0.917073           0.953659           0.965854   \n",
       "split7_test_score            0.888889           0.888889           0.911111   \n",
       "split7_train_score           0.921951           0.946341           0.978049   \n",
       "split8_test_score            0.911111           0.977778           0.955556   \n",
       "split8_train_score            0.92439            0.94878           0.970732   \n",
       "split9_test_score            0.866667           0.933333           0.933333   \n",
       "split9_train_score           0.926829           0.958537           0.968293   \n",
       "std_fit_time               0.00197394        0.000359529        0.000220702   \n",
       "std_score_time            0.000210896         8.2679e-05        3.02465e-05   \n",
       "std_test_score              0.0368558          0.0308864          0.0314724   \n",
       "std_train_score            0.00321232         0.00462563         0.00382722   \n",
       "\n",
       "                                    3                  4                  5  \n",
       "mean_fit_time               0.0039603          0.0048275         0.00530453  \n",
       "mean_score_time           0.000282168          0.0002321        0.000216699  \n",
       "mean_test_score              0.938462           0.934066           0.934066  \n",
       "mean_train_score             0.984126           0.990721           0.995362  \n",
       "param_max_depth                     4                  5                  6  \n",
       "params              {u'max_depth': 4}  {u'max_depth': 5}  {u'max_depth': 6}  \n",
       "rank_test_score                     1                  3                  3  \n",
       "split0_test_score            0.934783           0.913043           0.913043  \n",
       "split0_train_score            0.98044            0.99022           0.997555  \n",
       "split1_test_score            0.913043           0.913043           0.891304  \n",
       "split1_train_score           0.982885            0.99022            0.99511  \n",
       "split2_test_score                   1           0.978261           0.978261  \n",
       "split2_train_score           0.982885           0.987775           0.992665  \n",
       "split3_test_score            0.934783           0.934783           0.913043  \n",
       "split3_train_score           0.982885           0.992665                  1  \n",
       "split4_test_score            0.891304           0.869565           0.891304  \n",
       "split4_train_score           0.987775            0.99511           0.997555  \n",
       "split5_test_score            0.955556           0.955556           0.977778  \n",
       "split5_train_score           0.987805           0.990244           0.995122  \n",
       "split6_test_score            0.977778           0.977778           0.977778  \n",
       "split6_train_score           0.978049           0.987805           0.992683  \n",
       "split7_test_score            0.911111           0.911111           0.911111  \n",
       "split7_train_score           0.990244           0.995122           0.997561  \n",
       "split8_test_score            0.955556           0.977778           0.977778  \n",
       "split8_train_score           0.985366           0.990244           0.992683  \n",
       "split9_test_score            0.911111           0.911111           0.911111  \n",
       "split9_train_score           0.982927           0.987805           0.992683  \n",
       "std_fit_time              0.000639129        0.000532141        0.000883177  \n",
       "std_score_time            0.000251122        7.20807e-05        4.19456e-05  \n",
       "std_test_score              0.0321618          0.0351472          0.0364376  \n",
       "std_train_score            0.00349845         0.00262782         0.00254739  "
      ]
     },
     "execution_count": 11,
     "metadata": {},
     "output_type": "execute_result"
    }
   ],
   "source": [
    "import pandas as pd\n",
    "pd.DataFrame(grid.cv_results_).T"
   ]
  },
  {
   "cell_type": "code",
   "execution_count": null,
   "metadata": {
    "collapsed": true
   },
   "outputs": [],
   "source": []
  }
 ],
 "metadata": {
  "kernelspec": {
   "display_name": "Python 2",
   "language": "python",
   "name": "python2"
  },
  "language_info": {
   "codemirror_mode": {
    "name": "ipython",
    "version": 2
   },
   "file_extension": ".py",
   "mimetype": "text/x-python",
   "name": "python",
   "nbconvert_exporter": "python",
   "pygments_lexer": "ipython2",
   "version": "2.7.11"
  }
 },
 "nbformat": 4,
 "nbformat_minor": 2
}
