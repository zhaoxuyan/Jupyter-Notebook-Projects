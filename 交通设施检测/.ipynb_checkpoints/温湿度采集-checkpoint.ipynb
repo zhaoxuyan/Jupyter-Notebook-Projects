{
 "cells": [
  {
   "cell_type": "code",
   "execution_count": 1,
   "metadata": {},
   "outputs": [
    {
     "ename": "SyntaxError",
     "evalue": "Missing parentheses in call to 'print'. Did you mean print(\"socket result:\",result)? (<ipython-input-1-d64caba9cfa2>, line 24)",
     "output_type": "error",
     "traceback": [
      "\u001b[0;36m  File \u001b[0;32m\"<ipython-input-1-d64caba9cfa2>\"\u001b[0;36m, line \u001b[0;32m24\u001b[0m\n\u001b[0;31m    print \"socket result:\",result\u001b[0m\n\u001b[0m                         ^\u001b[0m\n\u001b[0;31mSyntaxError\u001b[0m\u001b[0;31m:\u001b[0m Missing parentheses in call to 'print'. Did you mean print(\"socket result:\",result)?\n"
     ]
    }
   ],
   "source": [
    "import socket\n",
    "import codecs\n",
    "import time\n",
    "\"\"\"\n",
    "client\n",
    "    connect()\n",
    "    recv()\n",
    "    send()\n",
    "    sendall() \n",
    "\"\"\"\n",
    "sk = socket.socket(socket.AF_INET,socket.SOCK_DGRAM)\n",
    "print(sk)\n",
    "address = ('10.1.156.82', 8001)\n",
    "sk.connect(address)\n",
    "# inp = input(\">>>\")\n",
    "cmd = '030300000002c5e9'\n",
    "while True:\n",
    "    if inp == 'exit':\n",
    "        break\n",
    "    # print(codecs.decode(inp,'hex'))\n",
    "    sk.send(codecs.decode(cmd,'hex'))\n",
    "    time.sleep(3)\n",
    "    result = sk.recv(1024)\n",
    "    # print \"socket result:\",result\n",
    "    result =codecs.encode(result,'hex')\n",
    "    # print \"十六进制编码:\",result,type(result)\n",
    "    r = bytes(result).decode('utf8')\n",
    "    # print \"utf-8解码:\",r,type(result)\n",
    "    # 这里int函数有了第二个参数base=16；说明要int函数把字符串’r[6:10]’视为十六进制数转换成十进制数；\n",
    "    shidu = int(r[6:10],16)/100\n",
    "    wendu = int(r[10:14],16)/100\n",
    "    # print(\"温度：%s，湿度：%s\"%(wendu,shidu))\n",
    "sk.close()"
   ]
  },
  {
   "cell_type": "code",
   "execution_count": null,
   "metadata": {
    "collapsed": true
   },
   "outputs": [],
   "source": [
    "#!/usr/bin/env python3\n",
    "# -*- coding:utf-8 -*-\n",
    "\n",
    "import socket\n",
    "import codecs\n",
    "import time\n",
    "import struct\n",
    "\n",
    "def gscl(gs):\n",
    "    gs = gs.replace('{int}(', 'getint(data,')\n",
    "    return gs\n",
    "\n",
    "\n",
    "def getint(data, start, end):\n",
    "    return struct.unpack('>h', data[start:end])[0]\n",
    "\n",
    "\n",
    "if __name__ == \"__main__\":\n",
    "    sk = socket.socket(socket.AF_INET, socket.SOCK_DGRAM)\n",
    "    sk.settimeout(3)\n",
    "    try:\n",
    "        cmd = b'030300000002c5e9'\n",
    "        cmd = codecs.decode(cmd, 'hex')\n",
    "        while True:\n",
    "            sk.sendto(cmd, ('10.1.156.82', 8001))\n",
    "            try:\n",
    "                data, addr = sk.recvfrom(8192)\n",
    "                sdgs = \"{int}(3,5)\"\n",
    "                sdgs = gscl(sdgs)\n",
    "                sd = eval(sdgs)\n",
    "                wdgs = \"{int}(5,7)\"\n",
    "                wdgs = gscl(wdgs)\n",
    "                wd = eval(wdgs)\n",
    "                wd = wd / 100\n",
    "                sd = sd / 100\n",
    "                print(wd, sd)\n",
    "                time.sleep(2)\n",
    "            except socket.timeout:\n",
    "                print('接收数据超时！')\n",
    "    finally:\n",
    "        sk.close()\n"
   ]
  }
 ],
 "metadata": {
  "kernelspec": {
   "display_name": "Python 3",
   "language": "python",
   "name": "python3"
  },
  "language_info": {
   "codemirror_mode": {
    "name": "ipython",
    "version": 3
   },
   "file_extension": ".py",
   "mimetype": "text/x-python",
   "name": "python",
   "nbconvert_exporter": "python",
   "pygments_lexer": "ipython3",
   "version": "3.6.5"
  }
 },
 "nbformat": 4,
 "nbformat_minor": 2
}
